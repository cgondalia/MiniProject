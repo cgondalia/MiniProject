{
 "cells": [
  {
   "cell_type": "code",
   "execution_count": 1,
   "id": "466c09fc",
   "metadata": {
    "execution": {
     "iopub.execute_input": "2021-11-08T00:43:36.764083Z",
     "iopub.status.busy": "2021-11-08T00:43:36.761269Z",
     "iopub.status.idle": "2021-11-08T00:43:39.332263Z",
     "shell.execute_reply": "2021-11-08T00:43:39.330771Z"
    },
    "papermill": {
     "duration": 2.622864,
     "end_time": "2021-11-08T00:43:39.332425",
     "exception": false,
     "start_time": "2021-11-08T00:43:36.709561",
     "status": "completed"
    },
    "tags": []
   },
   "outputs": [
    {
     "name": "stderr",
     "output_type": "stream",
     "text": [
      "Type 'citation(\"pROC\")' for a citation.\n",
      "\n",
      "\n",
      "Attaching package: ‘pROC’\n",
      "\n",
      "\n",
      "The following objects are masked from ‘package:stats’:\n",
      "\n",
      "    cov, smooth, var\n",
      "\n",
      "\n",
      "randomForest 4.6-14\n",
      "\n",
      "Type rfNews() to see new features/changes/bug fixes.\n",
      "\n",
      "\n",
      "Attaching package: ‘randomForest’\n",
      "\n",
      "\n",
      "The following object is masked from ‘package:psych’:\n",
      "\n",
      "    outlier\n",
      "\n",
      "\n",
      "Loading required package: lattice\n",
      "\n",
      "Loading required package: ggplot2\n",
      "\n",
      "\n",
      "Attaching package: ‘ggplot2’\n",
      "\n",
      "\n",
      "The following object is masked from ‘package:randomForest’:\n",
      "\n",
      "    margin\n",
      "\n",
      "\n",
      "The following objects are masked from ‘package:psych’:\n",
      "\n",
      "    %+%, alpha\n",
      "\n",
      "\n",
      "\n",
      "Attaching package: ‘caret’\n",
      "\n",
      "\n",
      "The following object is masked from ‘package:httr’:\n",
      "\n",
      "    progress\n",
      "\n",
      "\n"
     ]
    }
   ],
   "source": [
    "library(psych)\n",
    "library(rpart)\n",
    "library(\"pROC\")\n",
    "library(randomForest)\n",
    "library(xgboost)\n",
    "library(caret)"
   ]
  },
  {
   "cell_type": "code",
   "execution_count": 2,
   "id": "7873e151",
   "metadata": {
    "_execution_state": "idle",
    "_uuid": "051d70d956493feee0c6d64651c6a088724dca2a",
    "execution": {
     "iopub.execute_input": "2021-11-08T00:43:39.479338Z",
     "iopub.status.busy": "2021-11-08T00:43:39.441972Z",
     "iopub.status.idle": "2021-11-08T00:43:39.550762Z",
     "shell.execute_reply": "2021-11-08T00:43:39.549039Z"
    },
    "papermill": {
     "duration": 0.164671,
     "end_time": "2021-11-08T00:43:39.550899",
     "exception": false,
     "start_time": "2021-11-08T00:43:39.386228",
     "status": "completed"
    },
    "tags": []
   },
   "outputs": [
    {
     "data": {
      "text/html": [
       "<table class=\"dataframe\">\n",
       "<caption>A data.frame: 6 × 12</caption>\n",
       "<thead>\n",
       "\t<tr><th></th><th scope=col>fixed.acidity</th><th scope=col>volatile.acidity</th><th scope=col>citric.acid</th><th scope=col>residual.sugar</th><th scope=col>chlorides</th><th scope=col>free.sulfur.dioxide</th><th scope=col>total.sulfur.dioxide</th><th scope=col>density</th><th scope=col>pH</th><th scope=col>sulphates</th><th scope=col>alcohol</th><th scope=col>quality</th></tr>\n",
       "\t<tr><th></th><th scope=col>&lt;dbl&gt;</th><th scope=col>&lt;dbl&gt;</th><th scope=col>&lt;dbl&gt;</th><th scope=col>&lt;dbl&gt;</th><th scope=col>&lt;dbl&gt;</th><th scope=col>&lt;dbl&gt;</th><th scope=col>&lt;dbl&gt;</th><th scope=col>&lt;dbl&gt;</th><th scope=col>&lt;dbl&gt;</th><th scope=col>&lt;dbl&gt;</th><th scope=col>&lt;dbl&gt;</th><th scope=col>&lt;I&lt;dbl&gt;&gt;</th></tr>\n",
       "</thead>\n",
       "<tbody>\n",
       "\t<tr><th scope=row>1</th><td> 7.4</td><td>0.70</td><td>0.00</td><td>1.9</td><td>0.076</td><td>11</td><td>34</td><td>0.9978</td><td>3.51</td><td>0.56</td><td>9.4</td><td>0</td></tr>\n",
       "\t<tr><th scope=row>2</th><td> 7.8</td><td>0.88</td><td>0.00</td><td>2.6</td><td>0.098</td><td>25</td><td>67</td><td>0.9968</td><td>3.20</td><td>0.68</td><td>9.8</td><td>0</td></tr>\n",
       "\t<tr><th scope=row>3</th><td> 7.8</td><td>0.76</td><td>0.04</td><td>2.3</td><td>0.092</td><td>15</td><td>54</td><td>0.9970</td><td>3.26</td><td>0.65</td><td>9.8</td><td>0</td></tr>\n",
       "\t<tr><th scope=row>4</th><td>11.2</td><td>0.28</td><td>0.56</td><td>1.9</td><td>0.075</td><td>17</td><td>60</td><td>0.9980</td><td>3.16</td><td>0.58</td><td>9.8</td><td>0</td></tr>\n",
       "\t<tr><th scope=row>5</th><td> 7.4</td><td>0.70</td><td>0.00</td><td>1.9</td><td>0.076</td><td>11</td><td>34</td><td>0.9978</td><td>3.51</td><td>0.56</td><td>9.4</td><td>0</td></tr>\n",
       "\t<tr><th scope=row>6</th><td> 7.4</td><td>0.66</td><td>0.00</td><td>1.8</td><td>0.075</td><td>13</td><td>40</td><td>0.9978</td><td>3.51</td><td>0.56</td><td>9.4</td><td>0</td></tr>\n",
       "</tbody>\n",
       "</table>\n"
      ],
      "text/latex": [
       "A data.frame: 6 × 12\n",
       "\\begin{tabular}{r|llllllllllll}\n",
       "  & fixed.acidity & volatile.acidity & citric.acid & residual.sugar & chlorides & free.sulfur.dioxide & total.sulfur.dioxide & density & pH & sulphates & alcohol & quality\\\\\n",
       "  & <dbl> & <dbl> & <dbl> & <dbl> & <dbl> & <dbl> & <dbl> & <dbl> & <dbl> & <dbl> & <dbl> & <I<dbl>>\\\\\n",
       "\\hline\n",
       "\t1 &  7.4 & 0.70 & 0.00 & 1.9 & 0.076 & 11 & 34 & 0.9978 & 3.51 & 0.56 & 9.4 & 0\\\\\n",
       "\t2 &  7.8 & 0.88 & 0.00 & 2.6 & 0.098 & 25 & 67 & 0.9968 & 3.20 & 0.68 & 9.8 & 0\\\\\n",
       "\t3 &  7.8 & 0.76 & 0.04 & 2.3 & 0.092 & 15 & 54 & 0.9970 & 3.26 & 0.65 & 9.8 & 0\\\\\n",
       "\t4 & 11.2 & 0.28 & 0.56 & 1.9 & 0.075 & 17 & 60 & 0.9980 & 3.16 & 0.58 & 9.8 & 0\\\\\n",
       "\t5 &  7.4 & 0.70 & 0.00 & 1.9 & 0.076 & 11 & 34 & 0.9978 & 3.51 & 0.56 & 9.4 & 0\\\\\n",
       "\t6 &  7.4 & 0.66 & 0.00 & 1.8 & 0.075 & 13 & 40 & 0.9978 & 3.51 & 0.56 & 9.4 & 0\\\\\n",
       "\\end{tabular}\n"
      ],
      "text/markdown": [
       "\n",
       "A data.frame: 6 × 12\n",
       "\n",
       "| <!--/--> | fixed.acidity &lt;dbl&gt; | volatile.acidity &lt;dbl&gt; | citric.acid &lt;dbl&gt; | residual.sugar &lt;dbl&gt; | chlorides &lt;dbl&gt; | free.sulfur.dioxide &lt;dbl&gt; | total.sulfur.dioxide &lt;dbl&gt; | density &lt;dbl&gt; | pH &lt;dbl&gt; | sulphates &lt;dbl&gt; | alcohol &lt;dbl&gt; | quality &lt;I&lt;dbl&gt;&gt; |\n",
       "|---|---|---|---|---|---|---|---|---|---|---|---|---|\n",
       "| 1 |  7.4 | 0.70 | 0.00 | 1.9 | 0.076 | 11 | 34 | 0.9978 | 3.51 | 0.56 | 9.4 | 0 |\n",
       "| 2 |  7.8 | 0.88 | 0.00 | 2.6 | 0.098 | 25 | 67 | 0.9968 | 3.20 | 0.68 | 9.8 | 0 |\n",
       "| 3 |  7.8 | 0.76 | 0.04 | 2.3 | 0.092 | 15 | 54 | 0.9970 | 3.26 | 0.65 | 9.8 | 0 |\n",
       "| 4 | 11.2 | 0.28 | 0.56 | 1.9 | 0.075 | 17 | 60 | 0.9980 | 3.16 | 0.58 | 9.8 | 0 |\n",
       "| 5 |  7.4 | 0.70 | 0.00 | 1.9 | 0.076 | 11 | 34 | 0.9978 | 3.51 | 0.56 | 9.4 | 0 |\n",
       "| 6 |  7.4 | 0.66 | 0.00 | 1.8 | 0.075 | 13 | 40 | 0.9978 | 3.51 | 0.56 | 9.4 | 0 |\n",
       "\n"
      ],
      "text/plain": [
       "  fixed.acidity volatile.acidity citric.acid residual.sugar chlorides\n",
       "1  7.4          0.70             0.00        1.9            0.076    \n",
       "2  7.8          0.88             0.00        2.6            0.098    \n",
       "3  7.8          0.76             0.04        2.3            0.092    \n",
       "4 11.2          0.28             0.56        1.9            0.075    \n",
       "5  7.4          0.70             0.00        1.9            0.076    \n",
       "6  7.4          0.66             0.00        1.8            0.075    \n",
       "  free.sulfur.dioxide total.sulfur.dioxide density pH   sulphates alcohol\n",
       "1 11                  34                   0.9978  3.51 0.56      9.4    \n",
       "2 25                  67                   0.9968  3.20 0.68      9.8    \n",
       "3 15                  54                   0.9970  3.26 0.65      9.8    \n",
       "4 17                  60                   0.9980  3.16 0.58      9.8    \n",
       "5 11                  34                   0.9978  3.51 0.56      9.4    \n",
       "6 13                  40                   0.9978  3.51 0.56      9.4    \n",
       "  quality\n",
       "1 0      \n",
       "2 0      \n",
       "3 0      \n",
       "4 0      \n",
       "5 0      \n",
       "6 0      "
      ]
     },
     "metadata": {},
     "output_type": "display_data"
    },
    {
     "data": {
      "text/html": [
       "<style>\n",
       ".list-inline {list-style: none; margin:0; padding: 0}\n",
       ".list-inline>li {display: inline-block}\n",
       ".list-inline>li:not(:last-child)::after {content: \"\\00b7\"; padding: 0 .5ex}\n",
       "</style>\n",
       "<ol class=list-inline><li>1599</li><li>12</li></ol>\n"
      ],
      "text/latex": [
       "\\begin{enumerate*}\n",
       "\\item 1599\n",
       "\\item 12\n",
       "\\end{enumerate*}\n"
      ],
      "text/markdown": [
       "1. 1599\n",
       "2. 12\n",
       "\n",
       "\n"
      ],
      "text/plain": [
       "[1] 1599   12"
      ]
     },
     "metadata": {},
     "output_type": "display_data"
    }
   ],
   "source": [
    "wine_data<-read.table(\"../input/winequality/winequality-red.csv\", sep=\";\", header=TRUE)\n",
    "wine_data$quality <- I(wine_data$quality > 6) * 1\n",
    "head(wine_data)\n",
    "dim(wine_data)"
   ]
  },
  {
   "cell_type": "code",
   "execution_count": 3,
   "id": "1eaba948",
   "metadata": {
    "execution": {
     "iopub.execute_input": "2021-11-08T00:43:39.666692Z",
     "iopub.status.busy": "2021-11-08T00:43:39.665027Z",
     "iopub.status.idle": "2021-11-08T00:43:39.698408Z",
     "shell.execute_reply": "2021-11-08T00:43:39.696768Z"
    },
    "papermill": {
     "duration": 0.092826,
     "end_time": "2021-11-08T00:43:39.698534",
     "exception": false,
     "start_time": "2021-11-08T00:43:39.605708",
     "status": "completed"
    },
    "tags": []
   },
   "outputs": [
    {
     "data": {
      "text/html": [
       "<style>\n",
       ".list-inline {list-style: none; margin:0; padding: 0}\n",
       ".list-inline>li {display: inline-block}\n",
       ".list-inline>li:not(:last-child)::after {content: \"\\00b7\"; padding: 0 .5ex}\n",
       "</style>\n",
       "<ol class=list-inline><li>1136</li><li>12</li></ol>\n"
      ],
      "text/latex": [
       "\\begin{enumerate*}\n",
       "\\item 1136\n",
       "\\item 12\n",
       "\\end{enumerate*}\n"
      ],
      "text/markdown": [
       "1. 1136\n",
       "2. 12\n",
       "\n",
       "\n"
      ],
      "text/plain": [
       "[1] 1136   12"
      ]
     },
     "metadata": {},
     "output_type": "display_data"
    }
   ],
   "source": [
    "#Split the data into test and train sets \n",
    "set.seed(42)\n",
    "trn <- runif(nrow(wine_data)) < .7\n",
    "train <- data.frame(wine_data[trn==TRUE,])\n",
    "test <- data.frame(wine_data[trn==FALSE,])\n",
    "Y_test <- test$quality\n",
    "dim(train)"
   ]
  },
  {
   "cell_type": "code",
   "execution_count": 4,
   "id": "5882613f",
   "metadata": {
    "execution": {
     "iopub.execute_input": "2021-11-08T00:43:39.818144Z",
     "iopub.status.busy": "2021-11-08T00:43:39.816448Z",
     "iopub.status.idle": "2021-11-08T00:43:39.828785Z",
     "shell.execute_reply": "2021-11-08T00:43:39.827276Z"
    },
    "papermill": {
     "duration": 0.073801,
     "end_time": "2021-11-08T00:43:39.828922",
     "exception": false,
     "start_time": "2021-11-08T00:43:39.755121",
     "status": "completed"
    },
    "tags": []
   },
   "outputs": [],
   "source": [
    "#xvars<-names(wine_data)[-12]"
   ]
  },
  {
   "cell_type": "code",
   "execution_count": 5,
   "id": "5616f525",
   "metadata": {
    "execution": {
     "iopub.execute_input": "2021-11-08T00:43:39.948478Z",
     "iopub.status.busy": "2021-11-08T00:43:39.946756Z",
     "iopub.status.idle": "2021-11-08T00:43:42.770892Z",
     "shell.execute_reply": "2021-11-08T00:43:42.769589Z"
    },
    "papermill": {
     "duration": 2.885763,
     "end_time": "2021-11-08T00:43:42.771038",
     "exception": false,
     "start_time": "2021-11-08T00:43:39.885275",
     "status": "completed"
    },
    "tags": []
   },
   "outputs": [
    {
     "data": {
      "text/plain": [
       "\n",
       "Call:\n",
       " randomForest(x = X, y = Y, ntree = ntree, mtry = mtry, importance = TRUE) \n",
       "               Type of random forest: classification\n",
       "                     Number of trees: 1000\n",
       "No. of variables tried at each split: 3\n",
       "\n",
       "        OOB estimate of  error rate: 8.89%\n",
       "Confusion matrix:\n",
       "    0  1 class.error\n",
       "0 961 23  0.02337398\n",
       "1  78 74  0.51315789"
      ]
     },
     "metadata": {},
     "output_type": "display_data"
    }
   ],
   "source": [
    "#Fit a random forest to the data\n",
    "X<-as.matrix(train[,-12])\n",
    "Y<-factor(train$quality)\n",
    "mtry<-(ncol(X)^0.5)\n",
    "ntree <- 1000\n",
    "set.seed(652)\n",
    "rf1 <- randomForest(x=X, y=Y, ntree=ntree, mtry=mtry, importance=TRUE)\n",
    "rf1"
   ]
  },
  {
   "cell_type": "code",
   "execution_count": 6,
   "id": "4b6c31f9",
   "metadata": {
    "execution": {
     "iopub.execute_input": "2021-11-08T00:43:42.895587Z",
     "iopub.status.busy": "2021-11-08T00:43:42.894296Z",
     "iopub.status.idle": "2021-11-08T00:43:42.914915Z",
     "shell.execute_reply": "2021-11-08T00:43:42.913603Z"
    },
    "papermill": {
     "duration": 0.083319,
     "end_time": "2021-11-08T00:43:42.915045",
     "exception": false,
     "start_time": "2021-11-08T00:43:42.831726",
     "status": "completed"
    },
    "tags": []
   },
   "outputs": [
    {
     "data": {
      "text/plain": [
       "                Length Class  Mode     \n",
       "call               6   -none- call     \n",
       "type               1   -none- character\n",
       "predicted       1136   factor numeric  \n",
       "err.rate        3000   -none- numeric  \n",
       "confusion          6   -none- numeric  \n",
       "votes           2272   matrix numeric  \n",
       "oob.times       1136   -none- numeric  \n",
       "classes            2   -none- character\n",
       "importance        44   -none- numeric  \n",
       "importanceSD      33   -none- numeric  \n",
       "localImportance    0   -none- NULL     \n",
       "proximity          0   -none- NULL     \n",
       "ntree              1   -none- numeric  \n",
       "mtry               1   -none- numeric  \n",
       "forest            14   -none- list     \n",
       "y               1136   factor numeric  \n",
       "test               0   -none- NULL     \n",
       "inbag              0   -none- NULL     "
      ]
     },
     "metadata": {},
     "output_type": "display_data"
    },
    {
     "data": {
      "text/html": [
       "<style>\n",
       ".list-inline {list-style: none; margin:0; padding: 0}\n",
       ".list-inline>li {display: inline-block}\n",
       ".list-inline>li:not(:last-child)::after {content: \"\\00b7\"; padding: 0 .5ex}\n",
       "</style>\n",
       "<ol class=list-inline><li>'call'</li><li>'type'</li><li>'predicted'</li><li>'err.rate'</li><li>'confusion'</li><li>'votes'</li><li>'oob.times'</li><li>'classes'</li><li>'importance'</li><li>'importanceSD'</li><li>'localImportance'</li><li>'proximity'</li><li>'ntree'</li><li>'mtry'</li><li>'forest'</li><li>'y'</li><li>'test'</li><li>'inbag'</li></ol>\n"
      ],
      "text/latex": [
       "\\begin{enumerate*}\n",
       "\\item 'call'\n",
       "\\item 'type'\n",
       "\\item 'predicted'\n",
       "\\item 'err.rate'\n",
       "\\item 'confusion'\n",
       "\\item 'votes'\n",
       "\\item 'oob.times'\n",
       "\\item 'classes'\n",
       "\\item 'importance'\n",
       "\\item 'importanceSD'\n",
       "\\item 'localImportance'\n",
       "\\item 'proximity'\n",
       "\\item 'ntree'\n",
       "\\item 'mtry'\n",
       "\\item 'forest'\n",
       "\\item 'y'\n",
       "\\item 'test'\n",
       "\\item 'inbag'\n",
       "\\end{enumerate*}\n"
      ],
      "text/markdown": [
       "1. 'call'\n",
       "2. 'type'\n",
       "3. 'predicted'\n",
       "4. 'err.rate'\n",
       "5. 'confusion'\n",
       "6. 'votes'\n",
       "7. 'oob.times'\n",
       "8. 'classes'\n",
       "9. 'importance'\n",
       "10. 'importanceSD'\n",
       "11. 'localImportance'\n",
       "12. 'proximity'\n",
       "13. 'ntree'\n",
       "14. 'mtry'\n",
       "15. 'forest'\n",
       "16. 'y'\n",
       "17. 'test'\n",
       "18. 'inbag'\n",
       "\n",
       "\n"
      ],
      "text/plain": [
       " [1] \"call\"            \"type\"            \"predicted\"       \"err.rate\"       \n",
       " [5] \"confusion\"       \"votes\"           \"oob.times\"       \"classes\"        \n",
       " [9] \"importance\"      \"importanceSD\"    \"localImportance\" \"proximity\"      \n",
       "[13] \"ntree\"           \"mtry\"            \"forest\"          \"y\"              \n",
       "[17] \"test\"            \"inbag\"          "
      ]
     },
     "metadata": {},
     "output_type": "display_data"
    }
   ],
   "source": [
    "summary(rf1)\n",
    "names(rf1)"
   ]
  },
  {
   "cell_type": "code",
   "execution_count": 7,
   "id": "bf302b6a",
   "metadata": {
    "execution": {
     "iopub.execute_input": "2021-11-08T00:43:43.043950Z",
     "iopub.status.busy": "2021-11-08T00:43:43.042975Z",
     "iopub.status.idle": "2021-11-08T00:43:43.293586Z",
     "shell.execute_reply": "2021-11-08T00:43:43.292234Z"
    },
    "papermill": {
     "duration": 0.318266,
     "end_time": "2021-11-08T00:43:43.293770",
     "exception": false,
     "start_time": "2021-11-08T00:43:42.975504",
     "status": "completed"
    },
    "tags": []
   },
   "outputs": [
    {
     "data": {
      "image/png": "[encoded data removed]"
     },
     "metadata": {
      "image/png": {
       "height": 420,
       "width": 420
      }
     },
     "output_type": "display_data"
    }
   ],
   "source": [
    "varImpPlot(rf1)"
   ]
  },
  {
   "cell_type": "markdown",
   "id": "f7619148",
   "metadata": {
    "papermill": {
     "duration": 0.073289,
     "end_time": "2021-11-08T00:43:43.438139",
     "exception": false,
     "start_time": "2021-11-08T00:43:43.364850",
     "status": "completed"
    },
    "tags": []
   },
   "source": []
  },
  {
   "cell_type": "code",
   "execution_count": 8,
   "id": "5591e9cc",
   "metadata": {
    "execution": {
     "iopub.execute_input": "2021-11-08T00:43:43.580372Z",
     "iopub.status.busy": "2021-11-08T00:43:43.579709Z",
     "iopub.status.idle": "2021-11-08T00:43:43.636698Z",
     "shell.execute_reply": "2021-11-08T00:43:43.635321Z"
    },
    "papermill": {
     "duration": 0.134241,
     "end_time": "2021-11-08T00:43:43.636847",
     "exception": false,
     "start_time": "2021-11-08T00:43:43.502606",
     "status": "completed"
    },
    "tags": []
   },
   "outputs": [
    {
     "data": {
      "text/plain": [
       "        \n",
       "pred.rf1   0   1\n",
       "       0 392  33\n",
       "       1   6  32"
      ]
     },
     "metadata": {},
     "output_type": "display_data"
    }
   ],
   "source": [
    "#Use random forest model to make predictions in the test data \n",
    "pred.rf1 <- predict(rf1, test)\n",
    "table(pred.rf1, test$quality)"
   ]
  },
  {
   "cell_type": "code",
   "execution_count": 9,
   "id": "be164678",
   "metadata": {
    "execution": {
     "iopub.execute_input": "2021-11-08T00:43:43.770350Z",
     "iopub.status.busy": "2021-11-08T00:43:43.768867Z",
     "iopub.status.idle": "2021-11-08T00:43:43.825431Z",
     "shell.execute_reply": "2021-11-08T00:43:43.824247Z"
    },
    "papermill": {
     "duration": 0.124371,
     "end_time": "2021-11-08T00:43:43.825571",
     "exception": false,
     "start_time": "2021-11-08T00:43:43.701200",
     "status": "completed"
    },
    "tags": []
   },
   "outputs": [],
   "source": [
    "yhat.rf1 <- predict(rf1, test, type=\"prob\")[,2]"
   ]
  },
  {
   "cell_type": "markdown",
   "id": "ac60185d",
   "metadata": {
    "papermill": {
     "duration": 0.06464,
     "end_time": "2021-11-08T00:43:43.954232",
     "exception": false,
     "start_time": "2021-11-08T00:43:43.889592",
     "status": "completed"
    },
    "tags": []
   },
   "source": []
  },
  {
   "cell_type": "code",
   "execution_count": 10,
   "id": "4c97f9b8",
   "metadata": {
    "execution": {
     "iopub.execute_input": "2021-11-08T00:43:44.091333Z",
     "iopub.status.busy": "2021-11-08T00:43:44.090025Z",
     "iopub.status.idle": "2021-11-08T00:43:44.194136Z",
     "shell.execute_reply": "2021-11-08T00:43:44.191928Z"
    },
    "papermill": {
     "duration": 0.17459,
     "end_time": "2021-11-08T00:43:44.194276",
     "exception": false,
     "start_time": "2021-11-08T00:43:44.019686",
     "status": "completed"
    },
    "tags": []
   },
   "outputs": [
    {
     "name": "stderr",
     "output_type": "stream",
     "text": [
      "Setting levels: control = 0, case = 1\n",
      "\n"
     ]
    },
    {
     "data": {
      "text/plain": [
       "\n",
       "Call:\n",
       "roc.default(response = test$quality, predictor = yhat.rf1, direction = \"<\")\n",
       "\n",
       "Data: yhat.rf1 in 398 controls (test$quality 0) < 65 cases (test$quality 1).\n",
       "Area under the curve: 0.9298"
      ]
     },
     "metadata": {},
     "output_type": "display_data"
    },
    {
     "data": {
      "image/png": "[encoded data removed]"
     },
     "metadata": {
      "image/png": {
       "height": 420,
       "width": 420
      }
     },
     "output_type": "display_data"
    }
   ],
   "source": [
    "rf1.roc <- roc(test$quality, yhat.rf1, direction=\"<\")\n",
    "rf1.roc\n",
    "plot(rf1.roc, lwd=3)"
   ]
  },
  {
   "cell_type": "code",
   "execution_count": 11,
   "id": "2c544c05",
   "metadata": {
    "execution": {
     "iopub.execute_input": "2021-11-08T00:43:44.341304Z",
     "iopub.status.busy": "2021-11-08T00:43:44.339868Z",
     "iopub.status.idle": "2021-11-08T00:43:44.391493Z",
     "shell.execute_reply": "2021-11-08T00:43:44.389619Z"
    },
    "papermill": {
     "duration": 0.124324,
     "end_time": "2021-11-08T00:43:44.391625",
     "exception": false,
     "start_time": "2021-11-08T00:43:44.267301",
     "status": "completed"
    },
    "tags": []
   },
   "outputs": [
    {
     "name": "stdout",
     "output_type": "stream",
     "text": [
      "[00:43:44] WARNING: amalgamation/../src/learner.cc:1095: Starting in XGBoost 1.3.0, the default evaluation metric used with the objective 'binary:logistic' was changed from 'error' to 'logloss'. Explicitly set eval_metric if you'd like to restore the old behavior.\n",
      "[1]\ttrain-logloss:0.500351 \n",
      "[2]\ttrain-logloss:0.390099 \n",
      "[3]\ttrain-logloss:0.318105 \n",
      "[4]\ttrain-logloss:0.266142 \n",
      "[5]\ttrain-logloss:0.229816 \n",
      "[6]\ttrain-logloss:0.201930 \n",
      "[7]\ttrain-logloss:0.181230 \n",
      "[8]\ttrain-logloss:0.162817 \n",
      "[9]\ttrain-logloss:0.150298 \n",
      "[10]\ttrain-logloss:0.140787 \n",
      "[11]\ttrain-logloss:0.134265 \n",
      "[12]\ttrain-logloss:0.128395 \n"
     ]
    }
   ],
   "source": [
    "#Fit a boosted tree learner to the data\n",
    "X.tst <- as.matrix(test[,-12])\n",
    "\n",
    "parm <- list(nthread=2, max_depth=2, eta=0.10)\n",
    "bt1 <- xgboost(parm, data=X, label=train$quality, verbose=2, objective='binary:logistic', nrounds=12)\n"
   ]
  },
  {
   "cell_type": "code",
   "execution_count": 12,
   "id": "3b2e5252",
   "metadata": {
    "execution": {
     "iopub.execute_input": "2021-11-08T00:43:44.534527Z",
     "iopub.status.busy": "2021-11-08T00:43:44.532934Z",
     "iopub.status.idle": "2021-11-08T00:43:44.599556Z",
     "shell.execute_reply": "2021-11-08T00:43:44.598240Z"
    },
    "papermill": {
     "duration": 0.139045,
     "end_time": "2021-11-08T00:43:44.599680",
     "exception": false,
     "start_time": "2021-11-08T00:43:44.460635",
     "status": "completed"
    },
    "tags": []
   },
   "outputs": [
    {
     "data": {
      "text/html": [
       "<table class=\"dataframe\">\n",
       "<caption>A data.table: 10 × 4</caption>\n",
       "<thead>\n",
       "\t<tr><th scope=col>Feature</th><th scope=col>Gain</th><th scope=col>Cover</th><th scope=col>Frequency</th></tr>\n",
       "\t<tr><th scope=col>&lt;chr&gt;</th><th scope=col>&lt;dbl&gt;</th><th scope=col>&lt;dbl&gt;</th><th scope=col>&lt;dbl&gt;</th></tr>\n",
       "</thead>\n",
       "<tbody>\n",
       "\t<tr><td>alcohol             </td><td>0.30190346</td><td>0.27912951</td><td>0.09929078</td></tr>\n",
       "\t<tr><td>sulphates           </td><td>0.14361710</td><td>0.11924453</td><td>0.09929078</td></tr>\n",
       "\t<tr><td>total.sulfur.dioxide</td><td>0.09393047</td><td>0.08708768</td><td>0.12765957</td></tr>\n",
       "\t<tr><td>volatile.acidity    </td><td>0.08818789</td><td>0.14484868</td><td>0.10283688</td></tr>\n",
       "\t<tr><td>fixed.acidity       </td><td>0.07120806</td><td>0.06528212</td><td>0.09574468</td></tr>\n",
       "\t<tr><td>free.sulfur.dioxide </td><td>0.06690963</td><td>0.03178028</td><td>0.08510638</td></tr>\n",
       "\t<tr><td>residual.sugar      </td><td>0.06493739</td><td>0.06747584</td><td>0.09574468</td></tr>\n",
       "\t<tr><td>density             </td><td>0.05317739</td><td>0.05510608</td><td>0.08865248</td></tr>\n",
       "\t<tr><td>pH                  </td><td>0.04656648</td><td>0.02539856</td><td>0.06737589</td></tr>\n",
       "\t<tr><td>chlorides           </td><td>0.03997705</td><td>0.06278428</td><td>0.08156028</td></tr>\n",
       "</tbody>\n",
       "</table>\n"
      ],
      "text/latex": [
       "A data.table: 10 × 4\n",
       "\\begin{tabular}{llll}\n",
       " Feature & Gain & Cover & Frequency\\\\\n",
       " <chr> & <dbl> & <dbl> & <dbl>\\\\\n",
       "\\hline\n",
       "\t alcohol              & 0.30190346 & 0.27912951 & 0.09929078\\\\\n",
       "\t sulphates            & 0.14361710 & 0.11924453 & 0.09929078\\\\\n",
       "\t total.sulfur.dioxide & 0.09393047 & 0.08708768 & 0.12765957\\\\\n",
       "\t volatile.acidity     & 0.08818789 & 0.14484868 & 0.10283688\\\\\n",
       "\t fixed.acidity        & 0.07120806 & 0.06528212 & 0.09574468\\\\\n",
       "\t free.sulfur.dioxide  & 0.06690963 & 0.03178028 & 0.08510638\\\\\n",
       "\t residual.sugar       & 0.06493739 & 0.06747584 & 0.09574468\\\\\n",
       "\t density              & 0.05317739 & 0.05510608 & 0.08865248\\\\\n",
       "\t pH                   & 0.04656648 & 0.02539856 & 0.06737589\\\\\n",
       "\t chlorides            & 0.03997705 & 0.06278428 & 0.08156028\\\\\n",
       "\\end{tabular}\n"
      ],
      "text/markdown": [
       "\n",
       "A data.table: 10 × 4\n",
       "\n",
       "| Feature &lt;chr&gt; | Gain &lt;dbl&gt; | Cover &lt;dbl&gt; | Frequency &lt;dbl&gt; |\n",
       "|---|---|---|---|\n",
       "| alcohol              | 0.30190346 | 0.27912951 | 0.09929078 |\n",
       "| sulphates            | 0.14361710 | 0.11924453 | 0.09929078 |\n",
       "| total.sulfur.dioxide | 0.09393047 | 0.08708768 | 0.12765957 |\n",
       "| volatile.acidity     | 0.08818789 | 0.14484868 | 0.10283688 |\n",
       "| fixed.acidity        | 0.07120806 | 0.06528212 | 0.09574468 |\n",
       "| free.sulfur.dioxide  | 0.06690963 | 0.03178028 | 0.08510638 |\n",
       "| residual.sugar       | 0.06493739 | 0.06747584 | 0.09574468 |\n",
       "| density              | 0.05317739 | 0.05510608 | 0.08865248 |\n",
       "| pH                   | 0.04656648 | 0.02539856 | 0.06737589 |\n",
       "| chlorides            | 0.03997705 | 0.06278428 | 0.08156028 |\n",
       "\n"
      ],
      "text/plain": [
       "   Feature              Gain       Cover      Frequency \n",
       "1  alcohol              0.30190346 0.27912951 0.09929078\n",
       "2  sulphates            0.14361710 0.11924453 0.09929078\n",
       "3  total.sulfur.dioxide 0.09393047 0.08708768 0.12765957\n",
       "4  volatile.acidity     0.08818789 0.14484868 0.10283688\n",
       "5  fixed.acidity        0.07120806 0.06528212 0.09574468\n",
       "6  free.sulfur.dioxide  0.06690963 0.03178028 0.08510638\n",
       "7  residual.sugar       0.06493739 0.06747584 0.09574468\n",
       "8  density              0.05317739 0.05510608 0.08865248\n",
       "9  pH                   0.04656648 0.02539856 0.06737589\n",
       "10 chlorides            0.03997705 0.06278428 0.08156028"
      ]
     },
     "metadata": {},
     "output_type": "display_data"
    }
   ],
   "source": [
    "imp <- xgb.importance(feature_names=colnames(X), model=bt1)\n",
    "imp[1:10,]"
   ]
  },
  {
   "cell_type": "code",
   "execution_count": 13,
   "id": "aba33710",
   "metadata": {
    "execution": {
     "iopub.execute_input": "2021-11-08T00:43:44.747134Z",
     "iopub.status.busy": "2021-11-08T00:43:44.745805Z",
     "iopub.status.idle": "2021-11-08T00:43:44.817464Z",
     "shell.execute_reply": "2021-11-08T00:43:44.816233Z"
    },
    "papermill": {
     "duration": 0.146291,
     "end_time": "2021-11-08T00:43:44.817602",
     "exception": false,
     "start_time": "2021-11-08T00:43:44.671311",
     "status": "completed"
    },
    "tags": []
   },
   "outputs": [
    {
     "data": {
      "image/png": "[encoded data removed]"
     },
     "metadata": {
      "image/png": {
       "height": 420,
       "width": 420
      }
     },
     "output_type": "display_data"
    }
   ],
   "source": [
    "xgb.plot.importance(imp, rel_to_first = TRUE, xlab = \"Relative importance\")"
   ]
  },
  {
   "cell_type": "code",
   "execution_count": 14,
   "id": "7787718e",
   "metadata": {
    "execution": {
     "iopub.execute_input": "2021-11-08T00:43:44.969294Z",
     "iopub.status.busy": "2021-11-08T00:43:44.967840Z",
     "iopub.status.idle": "2021-11-08T00:43:44.991195Z",
     "shell.execute_reply": "2021-11-08T00:43:44.989539Z"
    },
    "papermill": {
     "duration": 0.099761,
     "end_time": "2021-11-08T00:43:44.991340",
     "exception": false,
     "start_time": "2021-11-08T00:43:44.891579",
     "status": "completed"
    },
    "tags": []
   },
   "outputs": [
    {
     "data": {
      "text/plain": [
       "       \n",
       "          0   1\n",
       "  FALSE 382  28\n",
       "  TRUE   16  37"
      ]
     },
     "metadata": {},
     "output_type": "display_data"
    }
   ],
   "source": [
    "#Confusion Matrix\n",
    "yhat.bt1 <- predict(bt1, X.tst) \n",
    "table(yhat.bt1 > 0.5, test$quality)"
   ]
  },
  {
   "cell_type": "code",
   "execution_count": 15,
   "id": "dd203188",
   "metadata": {
    "execution": {
     "iopub.execute_input": "2021-11-08T00:43:45.149648Z",
     "iopub.status.busy": "2021-11-08T00:43:45.147605Z",
     "iopub.status.idle": "2021-11-08T00:43:45.170926Z",
     "shell.execute_reply": "2021-11-08T00:43:45.169541Z"
    },
    "papermill": {
     "duration": 0.102864,
     "end_time": "2021-11-08T00:43:45.171061",
     "exception": false,
     "start_time": "2021-11-08T00:43:45.068197",
     "status": "completed"
    },
    "tags": []
   },
   "outputs": [
    {
     "name": "stderr",
     "output_type": "stream",
     "text": [
      "Setting levels: control = 0, case = 1\n",
      "\n"
     ]
    },
    {
     "data": {
      "text/plain": [
       "\n",
       "Call:\n",
       "roc.default(response = test$quality, predictor = yhat.bt1, direction = \"<\")\n",
       "\n",
       "Data: yhat.bt1 in 398 controls (test$quality 0) < 65 cases (test$quality 1).\n",
       "Area under the curve: 0.9127"
      ]
     },
     "metadata": {},
     "output_type": "display_data"
    }
   ],
   "source": [
    "bt1.roc <- roc(test$quality, yhat.bt1, direction=\"<\")\n",
    "bt1.roc"
   ]
  },
  {
   "cell_type": "code",
   "execution_count": 16,
   "id": "fba4f1d0",
   "metadata": {
    "execution": {
     "iopub.execute_input": "2021-11-08T00:43:45.353049Z",
     "iopub.status.busy": "2021-11-08T00:43:45.351632Z",
     "iopub.status.idle": "2021-11-08T00:43:45.432083Z",
     "shell.execute_reply": "2021-11-08T00:43:45.430916Z"
    },
    "papermill": {
     "duration": 0.169117,
     "end_time": "2021-11-08T00:43:45.432218",
     "exception": false,
     "start_time": "2021-11-08T00:43:45.263101",
     "status": "completed"
    },
    "tags": []
   },
   "outputs": [
    {
     "data": {
      "image/png": "[encoded data removed]"
     },
     "metadata": {
      "image/png": {
       "height": 420,
       "width": 420
      }
     },
     "output_type": "display_data"
    }
   ],
   "source": [
    "plot(rf1.roc, lwd=3)\n",
    "#lines(abt1.roc, col=\"red\", lwd=3)\n",
    "lines(bt1.roc, col=\"blue\", lwd=3)"
   ]
  },
  {
   "cell_type": "code",
   "execution_count": 17,
   "id": "f24a4f6c",
   "metadata": {
    "execution": {
     "iopub.execute_input": "2021-11-08T00:43:45.592775Z",
     "iopub.status.busy": "2021-11-08T00:43:45.591275Z",
     "iopub.status.idle": "2021-11-08T00:43:48.873055Z",
     "shell.execute_reply": "2021-11-08T00:43:48.871331Z"
    },
    "papermill": {
     "duration": 3.362987,
     "end_time": "2021-11-08T00:43:48.873210",
     "exception": false,
     "start_time": "2021-11-08T00:43:45.510223",
     "status": "completed"
    },
    "tags": []
   },
   "outputs": [
    {
     "data": {
      "text/plain": [
       "eXtreme Gradient Boosting \n",
       "\n",
       "1136 samples\n",
       "  11 predictor\n",
       "   2 classes: '0', '1' \n",
       "\n",
       "No pre-processing\n",
       "Resampling: Cross-Validated (10 fold) \n",
       "Summary of sample sizes: 1023, 1023, 1022, 1023, 1022, 1023, ... \n",
       "Resampling results across tuning parameters:\n",
       "\n",
       "  eta        max_depth  gamma     colsample_bytree  min_child_weight  subsample\n",
       "  0.2751873  10         2.554288  0.6912906         14                0.9600012\n",
       "  0.3945384   4         7.191123  0.4849171         19                0.3540326\n",
       "  0.4233338   2         9.346722  0.6760058         17                0.9916688\n",
       "  nrounds  Accuracy   Kappa    \n",
       "   74      0.8811598  0.3739643\n",
       "  321      0.8732495  0.2111881\n",
       "  153      0.8732495  0.2647956\n",
       "\n",
       "Accuracy was used to select the optimal model using the largest value.\n",
       "The final values used for the model were nrounds = 74, max_depth = 10, eta\n",
       " = 0.2751873, gamma = 2.554288, colsample_bytree = 0.6912906,\n",
       " min_child_weight = 14 and subsample = 0.9600012."
      ]
     },
     "metadata": {},
     "output_type": "display_data"
    }
   ],
   "source": [
    "#Tuning the parameters\n",
    "set.seed(42) #varies quite a bit\n",
    "ctrl <- trainControl(method=\"cv\", number=10, search=\"random\")\n",
    "model <- train(factor(quality)~., data=train, method=\"xgbTree\", trControl=ctrl)\n",
    "model"
   ]
  },
  {
   "cell_type": "code",
   "execution_count": 18,
   "id": "d5e12593",
   "metadata": {
    "execution": {
     "iopub.execute_input": "2021-11-08T00:43:49.039373Z",
     "iopub.status.busy": "2021-11-08T00:43:49.037516Z",
     "iopub.status.idle": "2021-11-08T00:43:49.145024Z",
     "shell.execute_reply": "2021-11-08T00:43:49.144142Z"
    },
    "papermill": {
     "duration": 0.191692,
     "end_time": "2021-11-08T00:43:49.145204",
     "exception": false,
     "start_time": "2021-11-08T00:43:48.953512",
     "status": "completed"
    },
    "tags": []
   },
   "outputs": [
    {
     "name": "stdout",
     "output_type": "stream",
     "text": [
      "[00:43:49] WARNING: amalgamation/../src/learner.cc:1095: Starting in XGBoost 1.3.0, the default evaluation metric used with the objective 'binary:logistic' was changed from 'error' to 'logloss'. Explicitly set eval_metric if you'd like to restore the old behavior.\n",
      "[1]\ttrain-logloss:0.500351 \n",
      "[2]\ttrain-logloss:0.390099 \n",
      "[3]\ttrain-logloss:0.318105 \n",
      "[4]\ttrain-logloss:0.266142 \n",
      "[5]\ttrain-logloss:0.229816 \n",
      "[6]\ttrain-logloss:0.201930 \n",
      "[7]\ttrain-logloss:0.181230 \n",
      "[8]\ttrain-logloss:0.162817 \n",
      "[9]\ttrain-logloss:0.150298 \n",
      "[10]\ttrain-logloss:0.140787 \n",
      "[11]\ttrain-logloss:0.134265 \n",
      "[12]\ttrain-logloss:0.128395 \n",
      "[13]\ttrain-logloss:0.123745 \n",
      "[14]\ttrain-logloss:0.118042 \n",
      "[15]\ttrain-logloss:0.110026 \n",
      "[16]\ttrain-logloss:0.101895 \n",
      "[17]\ttrain-logloss:0.096457 \n",
      "[18]\ttrain-logloss:0.092485 \n",
      "[19]\ttrain-logloss:0.090404 \n",
      "[20]\ttrain-logloss:0.083564 \n",
      "[21]\ttrain-logloss:0.079469 \n",
      "[22]\ttrain-logloss:0.075963 \n",
      "[23]\ttrain-logloss:0.071782 \n",
      "[24]\ttrain-logloss:0.067006 \n",
      "[25]\ttrain-logloss:0.063737 \n",
      "[26]\ttrain-logloss:0.060934 \n",
      "[27]\ttrain-logloss:0.058513 \n",
      "[28]\ttrain-logloss:0.054669 \n",
      "[29]\ttrain-logloss:0.053888 \n",
      "[30]\ttrain-logloss:0.052688 \n",
      "[31]\ttrain-logloss:0.050147 \n",
      "[32]\ttrain-logloss:0.047677 \n",
      "[33]\ttrain-logloss:0.044905 \n",
      "[34]\ttrain-logloss:0.042105 \n",
      "[35]\ttrain-logloss:0.040566 \n",
      "[36]\ttrain-logloss:0.039057 \n",
      "[37]\ttrain-logloss:0.038134 \n",
      "[38]\ttrain-logloss:0.037174 \n",
      "[39]\ttrain-logloss:0.035500 \n",
      "[40]\ttrain-logloss:0.034512 \n",
      "[41]\ttrain-logloss:0.033288 \n",
      "[42]\ttrain-logloss:0.032506 \n",
      "[43]\ttrain-logloss:0.031198 \n",
      "[44]\ttrain-logloss:0.029985 \n",
      "[45]\ttrain-logloss:0.028812 \n",
      "[46]\ttrain-logloss:0.028052 \n",
      "[47]\ttrain-logloss:0.027219 \n",
      "[48]\ttrain-logloss:0.026929 \n",
      "[49]\ttrain-logloss:0.026376 \n",
      "[50]\ttrain-logloss:0.025674 \n",
      "[51]\ttrain-logloss:0.024894 \n",
      "[52]\ttrain-logloss:0.024426 \n",
      "[53]\ttrain-logloss:0.023683 \n",
      "[54]\ttrain-logloss:0.022936 \n",
      "[55]\ttrain-logloss:0.022320 \n",
      "[56]\ttrain-logloss:0.021765 \n",
      "[57]\ttrain-logloss:0.021193 \n",
      "[58]\ttrain-logloss:0.020774 \n",
      "[59]\ttrain-logloss:0.020251 \n",
      "[60]\ttrain-logloss:0.019786 \n",
      "[61]\ttrain-logloss:0.019527 \n",
      "[62]\ttrain-logloss:0.019318 \n",
      "[63]\ttrain-logloss:0.019068 \n",
      "[64]\ttrain-logloss:0.018689 \n",
      "[65]\ttrain-logloss:0.018256 \n",
      "[66]\ttrain-logloss:0.017861 \n",
      "[67]\ttrain-logloss:0.017443 \n",
      "[68]\ttrain-logloss:0.017133 \n",
      "[69]\ttrain-logloss:0.016846 \n",
      "[70]\ttrain-logloss:0.016588 \n",
      "[71]\ttrain-logloss:0.016347 \n",
      "[72]\ttrain-logloss:0.016168 \n",
      "[73]\ttrain-logloss:0.015907 \n",
      "[74]\ttrain-logloss:0.015645 \n"
     ]
    }
   ],
   "source": [
    "parm <- list(nthread=2, max_depth=10, eta=0.2752, gamma=2.55, min_child_weight=14, subsample=.96)\n",
    "bt2 <- xgboost(parm, data=X, label=train$quality, verbose=2, objective='binary:logistic', nrounds=74)"
   ]
  },
  {
   "cell_type": "code",
   "execution_count": 19,
   "id": "26b005cf",
   "metadata": {
    "execution": {
     "iopub.execute_input": "2021-11-08T00:43:49.310995Z",
     "iopub.status.busy": "2021-11-08T00:43:49.309644Z",
     "iopub.status.idle": "2021-11-08T00:43:49.336845Z",
     "shell.execute_reply": "2021-11-08T00:43:49.335235Z"
    },
    "papermill": {
     "duration": 0.110767,
     "end_time": "2021-11-08T00:43:49.336996",
     "exception": false,
     "start_time": "2021-11-08T00:43:49.226229",
     "status": "completed"
    },
    "tags": []
   },
   "outputs": [
    {
     "data": {
      "text/plain": [
       "       \n",
       "          0   1\n",
       "  FALSE 385  27\n",
       "  TRUE   13  38"
      ]
     },
     "metadata": {},
     "output_type": "display_data"
    }
   ],
   "source": [
    "#Confusion Matrix\n",
    "yhat.bt2 <- predict(bt2, X.tst) \n",
    "table(yhat.bt2 > 0.5, test$quality)"
   ]
  },
  {
   "cell_type": "code",
   "execution_count": 20,
   "id": "fb4c0b4f",
   "metadata": {
    "execution": {
     "iopub.execute_input": "2021-11-08T00:43:49.505084Z",
     "iopub.status.busy": "2021-11-08T00:43:49.503179Z",
     "iopub.status.idle": "2021-11-08T00:43:49.525599Z",
     "shell.execute_reply": "2021-11-08T00:43:49.524304Z"
    },
    "papermill": {
     "duration": 0.107497,
     "end_time": "2021-11-08T00:43:49.525754",
     "exception": false,
     "start_time": "2021-11-08T00:43:49.418257",
     "status": "completed"
    },
    "tags": []
   },
   "outputs": [
    {
     "name": "stderr",
     "output_type": "stream",
     "text": [
      "Setting levels: control = 0, case = 1\n",
      "\n"
     ]
    },
    {
     "data": {
      "text/plain": [
       "\n",
       "Call:\n",
       "roc.default(response = test$quality, predictor = yhat.bt2, direction = \"<\")\n",
       "\n",
       "Data: yhat.bt2 in 398 controls (test$quality 0) < 65 cases (test$quality 1).\n",
       "Area under the curve: 0.9341"
      ]
     },
     "metadata": {},
     "output_type": "display_data"
    }
   ],
   "source": [
    "bt2.roc <- roc(test$quality, yhat.bt2, direction=\"<\")\n",
    "bt2.roc"
   ]
  },
  {
   "cell_type": "code",
   "execution_count": 21,
   "id": "3502aadb",
   "metadata": {
    "execution": {
     "iopub.execute_input": "2021-11-08T00:43:49.696759Z",
     "iopub.status.busy": "2021-11-08T00:43:49.695302Z",
     "iopub.status.idle": "2021-11-08T00:43:49.778764Z",
     "shell.execute_reply": "2021-11-08T00:43:49.777144Z"
    },
    "papermill": {
     "duration": 0.16923,
     "end_time": "2021-11-08T00:43:49.778917",
     "exception": false,
     "start_time": "2021-11-08T00:43:49.609687",
     "status": "completed"
    },
    "tags": []
   },
   "outputs": [
    {
     "data": {
      "image/png": "[encoded data removed]"
     },
     "metadata": {
      "image/png": {
       "height": 420,
       "width": 420
      }
     },
     "output_type": "display_data"
    }
   ],
   "source": [
    "plot(rf1.roc, lwd=3)\n",
    "#lines(abt1.roc, col=\"red\", lwd=3)\n",
    "lines(bt1.roc, col=\"blue\", lwd=3)\n",
    "lines(bt2.roc, col=\"green\", lwd=3)"
   ]
  },
  {
   "cell_type": "code",
   "execution_count": null,
   "id": "223fbb9c",
   "metadata": {
    "papermill": {
     "duration": 0.085818,
     "end_time": "2021-11-08T00:43:49.949515",
     "exception": false,
     "start_time": "2021-11-08T00:43:49.863697",
     "status": "completed"
    },
    "tags": []
   },
   "outputs": [],
   "source": []
  }
 ],
 "metadata": {
  "kernelspec": {
   "display_name": "R",
   "language": "R",
   "name": "ir"
  },
  "language_info": {
   "codemirror_mode": "r",
   "file_extension": ".r",
   "mimetype": "text/x-r-source",
   "name": "R",
   "pygments_lexer": "r",
   "version": "4.0.5"
  },
  "papermill": {
   "default_parameters": {},
   "duration": 16.476926,
   "end_time": "2021-11-08T00:43:50.146266",
   "environment_variables": {},
   "exception": null,
   "input_path": "__notebook__.ipynb",
   "output_path": "__notebook__.ipynb",
   "parameters": {},
   "start_time": "2021-11-08T00:43:33.669340",
   "version": "2.3.3"
  }
 },
 "nbformat": 4,
 "nbformat_minor": 5
}
