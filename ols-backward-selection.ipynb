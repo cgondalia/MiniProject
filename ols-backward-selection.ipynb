{
 "cells": [
  {
   "cell_type": "markdown",
   "id": "089ed4c0",
   "metadata": {
    "papermill": {
     "duration": 0.012697,
     "end_time": "2021-09-24T22:24:40.550141",
     "exception": false,
     "start_time": "2021-09-24T22:24:40.537444",
     "status": "completed"
    },
    "tags": []
   },
   "source": [
    "*Loading the dataset and viewing its first few rows and the summary.*"
   ]
  },
  {
   "cell_type": "code",
   "execution_count": 1,
   "id": "8b578022",
   "metadata": {
    "execution": {
     "iopub.execute_input": "2021-09-24T22:24:40.580802Z",
     "iopub.status.busy": "2021-09-24T22:24:40.578405Z",
     "iopub.status.idle": "2021-09-24T22:24:40.742203Z",
     "shell.execute_reply": "2021-09-24T22:24:40.740864Z"
    },
    "papermill": {
     "duration": 0.180291,
     "end_time": "2021-09-24T22:24:40.742405",
     "exception": false,
     "start_time": "2021-09-24T22:24:40.562114",
     "status": "completed"
    },
    "tags": []
   },
   "outputs": [
    {
     "data": {
      "text/html": [
       "<table class=\"dataframe\">\n",
       "<caption>A data.frame: 6 × 9</caption>\n",
       "<thead>\n",
       "\t<tr><th></th><th scope=col>Hours</th><th scope=col>ByDa</th><th scope=col>RWT</th><th scope=col>SOA</th><th scope=col>SOB</th><th scope=col>SOC</th><th scope=col>Field</th><th scope=col>Hot</th><th scope=col>Day</th></tr>\n",
       "\t<tr><th></th><th scope=col>&lt;int&gt;</th><th scope=col>&lt;int&gt;</th><th scope=col>&lt;int&gt;</th><th scope=col>&lt;int&gt;</th><th scope=col>&lt;int&gt;</th><th scope=col>&lt;int&gt;</th><th scope=col>&lt;int&gt;</th><th scope=col>&lt;int&gt;</th><th scope=col>&lt;int&gt;</th></tr>\n",
       "</thead>\n",
       "<tbody>\n",
       "\t<tr><th scope=row>1</th><td>111</td><td>62</td><td>34</td><td>496</td><td>0</td><td>0</td><td>36</td><td>12</td><td>3</td></tr>\n",
       "\t<tr><th scope=row>2</th><td>114</td><td>35</td><td>29</td><td>258</td><td>0</td><td>0</td><td>34</td><td>16</td><td>4</td></tr>\n",
       "\t<tr><th scope=row>3</th><td> 70</td><td>74</td><td>19</td><td> 39</td><td>0</td><td>1</td><td>27</td><td> 9</td><td>5</td></tr>\n",
       "\t<tr><th scope=row>4</th><td>114</td><td>97</td><td>19</td><td>376</td><td>5</td><td>1</td><td>26</td><td>28</td><td>1</td></tr>\n",
       "\t<tr><th scope=row>5</th><td> 87</td><td>83</td><td>31</td><td>107</td><td>1</td><td>1</td><td> 9</td><td>14</td><td>2</td></tr>\n",
       "\t<tr><th scope=row>6</th><td>105</td><td>49</td><td>69</td><td> 78</td><td>2</td><td>1</td><td>25</td><td>16</td><td>3</td></tr>\n",
       "</tbody>\n",
       "</table>\n"
      ],
      "text/latex": [
       "A data.frame: 6 × 9\n",
       "\\begin{tabular}{r|lllllllll}\n",
       "  & Hours & ByDa & RWT & SOA & SOB & SOC & Field & Hot & Day\\\\\n",
       "  & <int> & <int> & <int> & <int> & <int> & <int> & <int> & <int> & <int>\\\\\n",
       "\\hline\n",
       "\t1 & 111 & 62 & 34 & 496 & 0 & 0 & 36 & 12 & 3\\\\\n",
       "\t2 & 114 & 35 & 29 & 258 & 0 & 0 & 34 & 16 & 4\\\\\n",
       "\t3 &  70 & 74 & 19 &  39 & 0 & 1 & 27 &  9 & 5\\\\\n",
       "\t4 & 114 & 97 & 19 & 376 & 5 & 1 & 26 & 28 & 1\\\\\n",
       "\t5 &  87 & 83 & 31 & 107 & 1 & 1 &  9 & 14 & 2\\\\\n",
       "\t6 & 105 & 49 & 69 &  78 & 2 & 1 & 25 & 16 & 3\\\\\n",
       "\\end{tabular}\n"
      ],
      "text/markdown": [
       "\n",
       "A data.frame: 6 × 9\n",
       "\n",
       "| <!--/--> | Hours &lt;int&gt; | ByDa &lt;int&gt; | RWT &lt;int&gt; | SOA &lt;int&gt; | SOB &lt;int&gt; | SOC &lt;int&gt; | Field &lt;int&gt; | Hot &lt;int&gt; | Day &lt;int&gt; |\n",
       "|---|---|---|---|---|---|---|---|---|---|\n",
       "| 1 | 111 | 62 | 34 | 496 | 0 | 0 | 36 | 12 | 3 |\n",
       "| 2 | 114 | 35 | 29 | 258 | 0 | 0 | 34 | 16 | 4 |\n",
       "| 3 |  70 | 74 | 19 |  39 | 0 | 1 | 27 |  9 | 5 |\n",
       "| 4 | 114 | 97 | 19 | 376 | 5 | 1 | 26 | 28 | 1 |\n",
       "| 5 |  87 | 83 | 31 | 107 | 1 | 1 |  9 | 14 | 2 |\n",
       "| 6 | 105 | 49 | 69 |  78 | 2 | 1 | 25 | 16 | 3 |\n",
       "\n"
      ],
      "text/plain": [
       "  Hours ByDa RWT SOA SOB SOC Field Hot Day\n",
       "1 111   62   34  496 0   0   36    12  3  \n",
       "2 114   35   29  258 0   0   34    16  4  \n",
       "3  70   74   19   39 0   1   27     9  5  \n",
       "4 114   97   19  376 5   1   26    28  1  \n",
       "5  87   83   31  107 1   1    9    14  2  \n",
       "6 105   49   69   78 2   1   25    16  3  "
      ]
     },
     "metadata": {},
     "output_type": "display_data"
    },
    {
     "data": {
      "text/plain": [
       "     Hours            ByDa             RWT              SOA       \n",
       " Min.   : 48.0   Min.   :  0.00   Min.   :  0.00   Min.   :  0.0  \n",
       " 1st Qu.: 92.0   1st Qu.: 42.00   1st Qu.: 24.50   1st Qu.:170.0  \n",
       " Median :108.0   Median : 56.00   Median : 35.00   Median :283.0  \n",
       " Mean   :101.8   Mean   : 60.39   Mean   : 42.87   Mean   :263.8  \n",
       " 3rd Qu.:114.5   3rd Qu.: 74.00   3rd Qu.: 66.50   3rd Qu.:352.5  \n",
       " Max.   :124.0   Max.   :174.00   Max.   :109.00   Max.   :496.0  \n",
       "      SOB              SOC             Field            Hot             Day   \n",
       " Min.   : 0.000   Min.   : 0.000   Min.   : 9.00   Min.   : 0.00   Min.   :1  \n",
       " 1st Qu.: 0.000   1st Qu.: 0.000   1st Qu.:18.00   1st Qu.: 9.00   1st Qu.:2  \n",
       " Median : 1.000   Median : 1.000   Median :22.00   Median :11.00   Median :3  \n",
       " Mean   : 2.387   Mean   : 2.548   Mean   :24.87   Mean   :12.19   Mean   :3  \n",
       " 3rd Qu.: 4.000   3rd Qu.: 2.000   3rd Qu.:28.00   3rd Qu.:16.00   3rd Qu.:4  \n",
       " Max.   :12.000   Max.   :35.000   Max.   :92.00   Max.   :28.00   Max.   :5  "
      ]
     },
     "metadata": {},
     "output_type": "display_data"
    }
   ],
   "source": [
    "tel_data<- read.csv('../input/telecomdata/tel.csv')\n",
    "head(tel_data)\n",
    "summary(tel_data)"
   ]
  },
  {
   "cell_type": "markdown",
   "id": "6d1656c3",
   "metadata": {
    "papermill": {
     "duration": 0.012725,
     "end_time": "2021-09-24T22:24:40.768403",
     "exception": false,
     "start_time": "2021-09-24T22:24:40.755678",
     "status": "completed"
    },
    "tags": []
   },
   "source": [
    "*Regressing **Hours** on all the variables*"
   ]
  },
  {
   "cell_type": "code",
   "execution_count": 2,
   "id": "934020be",
   "metadata": {
    "execution": {
     "iopub.execute_input": "2021-09-24T22:24:40.836345Z",
     "iopub.status.busy": "2021-09-24T22:24:40.797951Z",
     "iopub.status.idle": "2021-09-24T22:24:40.870512Z",
     "shell.execute_reply": "2021-09-24T22:24:40.869020Z"
    },
    "papermill": {
     "duration": 0.089516,
     "end_time": "2021-09-24T22:24:40.870658",
     "exception": false,
     "start_time": "2021-09-24T22:24:40.781142",
     "status": "completed"
    },
    "tags": []
   },
   "outputs": [
    {
     "data": {
      "text/plain": [
       "\n",
       "Call:\n",
       "lm(formula = Hours ~ ByDa + RWT + SOA + SOB + SOC + Field + Hot + \n",
       "    Day, data = tel_data)\n",
       "\n",
       "Residuals:\n",
       "    Min      1Q  Median      3Q     Max \n",
       "-20.166  -6.089  -1.662   7.358  18.749 \n",
       "\n",
       "Coefficients:\n",
       "            Estimate Std. Error t value Pr(>|t|)    \n",
       "(Intercept) 66.56767   14.37798   4.630  0.00013 ***\n",
       "ByDa        -0.14479    0.11348  -1.276  0.21528    \n",
       "RWT          0.33042    0.11946   2.766  0.01127 *  \n",
       "SOA          0.06501    0.01837   3.540  0.00184 ** \n",
       "SOB         -0.19097    0.93128  -0.205  0.83941    \n",
       "SOC          0.24518    0.40514   0.605  0.55126    \n",
       "Field        0.16305    0.18325   0.890  0.38321    \n",
       "Hot          1.31371    0.45730   2.873  0.00884 ** \n",
       "Day         -2.52555    2.17472  -1.161  0.25796    \n",
       "---\n",
       "Signif. codes:  0 ‘***’ 0.001 ‘**’ 0.01 ‘*’ 0.05 ‘.’ 0.1 ‘ ’ 1\n",
       "\n",
       "Residual standard error: 11.64 on 22 degrees of freedom\n",
       "Multiple R-squared:  0.7046,\tAdjusted R-squared:  0.5972 \n",
       "F-statistic: 6.559 on 8 and 22 DF,  p-value: 0.0002116\n"
      ]
     },
     "metadata": {},
     "output_type": "display_data"
    }
   ],
   "source": [
    "mod_all<-lm( Hours~ ByDa+RWT+SOA+SOB+SOC+Field+Hot+Day, data=tel_data)\n",
    "summary(mod_all)"
   ]
  },
  {
   "cell_type": "code",
   "execution_count": 3,
   "id": "ef1f8e6f",
   "metadata": {
    "execution": {
     "iopub.execute_input": "2021-09-24T22:24:40.902855Z",
     "iopub.status.busy": "2021-09-24T22:24:40.901460Z",
     "iopub.status.idle": "2021-09-24T22:24:40.932897Z",
     "shell.execute_reply": "2021-09-24T22:24:40.931557Z"
    },
    "papermill": {
     "duration": 0.049015,
     "end_time": "2021-09-24T22:24:40.933043",
     "exception": false,
     "start_time": "2021-09-24T22:24:40.884028",
     "status": "completed"
    },
    "tags": []
   },
   "outputs": [
    {
     "data": {
      "text/html": [
       "<table class=\"dataframe\">\n",
       "<caption>A matrix: 9 × 2 of type dbl</caption>\n",
       "<thead>\n",
       "\t<tr><th></th><th scope=col>2.5 %</th><th scope=col>97.5 %</th></tr>\n",
       "</thead>\n",
       "<tbody>\n",
       "\t<tr><th scope=row>(Intercept)</th><td>36.74956729</td><td>96.3857723</td></tr>\n",
       "\t<tr><th scope=row>ByDa</th><td>-0.38013721</td><td> 0.0905481</td></tr>\n",
       "\t<tr><th scope=row>RWT</th><td> 0.08267517</td><td> 0.5781664</td></tr>\n",
       "\t<tr><th scope=row>SOA</th><td> 0.02692215</td><td> 0.1031032</td></tr>\n",
       "\t<tr><th scope=row>SOB</th><td>-2.12233312</td><td> 1.7403991</td></tr>\n",
       "\t<tr><th scope=row>SOC</th><td>-0.59503433</td><td> 1.0853886</td></tr>\n",
       "\t<tr><th scope=row>Field</th><td>-0.21698234</td><td> 0.5430812</td></tr>\n",
       "\t<tr><th scope=row>Hot</th><td> 0.36531865</td><td> 2.2621002</td></tr>\n",
       "\t<tr><th scope=row>Day</th><td>-7.03565043</td><td> 1.9845566</td></tr>\n",
       "</tbody>\n",
       "</table>\n"
      ],
      "text/latex": [
       "A matrix: 9 × 2 of type dbl\n",
       "\\begin{tabular}{r|ll}\n",
       "  & 2.5 \\% & 97.5 \\%\\\\\n",
       "\\hline\n",
       "\t(Intercept) & 36.74956729 & 96.3857723\\\\\n",
       "\tByDa & -0.38013721 &  0.0905481\\\\\n",
       "\tRWT &  0.08267517 &  0.5781664\\\\\n",
       "\tSOA &  0.02692215 &  0.1031032\\\\\n",
       "\tSOB & -2.12233312 &  1.7403991\\\\\n",
       "\tSOC & -0.59503433 &  1.0853886\\\\\n",
       "\tField & -0.21698234 &  0.5430812\\\\\n",
       "\tHot &  0.36531865 &  2.2621002\\\\\n",
       "\tDay & -7.03565043 &  1.9845566\\\\\n",
       "\\end{tabular}\n"
      ],
      "text/markdown": [
       "\n",
       "A matrix: 9 × 2 of type dbl\n",
       "\n",
       "| <!--/--> | 2.5 % | 97.5 % |\n",
       "|---|---|---|\n",
       "| (Intercept) | 36.74956729 | 96.3857723 |\n",
       "| ByDa | -0.38013721 |  0.0905481 |\n",
       "| RWT |  0.08267517 |  0.5781664 |\n",
       "| SOA |  0.02692215 |  0.1031032 |\n",
       "| SOB | -2.12233312 |  1.7403991 |\n",
       "| SOC | -0.59503433 |  1.0853886 |\n",
       "| Field | -0.21698234 |  0.5430812 |\n",
       "| Hot |  0.36531865 |  2.2621002 |\n",
       "| Day | -7.03565043 |  1.9845566 |\n",
       "\n"
      ],
      "text/plain": [
       "            2.5 %       97.5 %    \n",
       "(Intercept) 36.74956729 96.3857723\n",
       "ByDa        -0.38013721  0.0905481\n",
       "RWT          0.08267517  0.5781664\n",
       "SOA          0.02692215  0.1031032\n",
       "SOB         -2.12233312  1.7403991\n",
       "SOC         -0.59503433  1.0853886\n",
       "Field       -0.21698234  0.5430812\n",
       "Hot          0.36531865  2.2621002\n",
       "Day         -7.03565043  1.9845566"
      ]
     },
     "metadata": {},
     "output_type": "display_data"
    }
   ],
   "source": [
    "confint(mod_all)"
   ]
  },
  {
   "cell_type": "markdown",
   "id": "59a08f72",
   "metadata": {
    "papermill": {
     "duration": 0.013905,
     "end_time": "2021-09-24T22:24:40.961237",
     "exception": false,
     "start_time": "2021-09-24T22:24:40.947332",
     "status": "completed"
    },
    "tags": []
   },
   "source": [
    "Few things to be noted from this regression model- Hot and SOA, followed by RWT have coefficients that are positive and significant. The hotline seems to be contributing high number of hours as well as SOA- number of service orders of type A. "
   ]
  },
  {
   "cell_type": "markdown",
   "id": "b3c7dfd8",
   "metadata": {
    "papermill": {
     "duration": 0.01387,
     "end_time": "2021-09-24T22:24:40.989235",
     "exception": false,
     "start_time": "2021-09-24T22:24:40.975365",
     "status": "completed"
    },
    "tags": []
   },
   "source": [
    "*Creating a new variable for Friday*"
   ]
  },
  {
   "cell_type": "code",
   "execution_count": 4,
   "id": "ac5f7986",
   "metadata": {
    "execution": {
     "iopub.execute_input": "2021-09-24T22:24:41.023281Z",
     "iopub.status.busy": "2021-09-24T22:24:41.021779Z",
     "iopub.status.idle": "2021-09-24T22:24:41.072983Z",
     "shell.execute_reply": "2021-09-24T22:24:41.071641Z"
    },
    "papermill": {
     "duration": 0.069596,
     "end_time": "2021-09-24T22:24:41.073129",
     "exception": false,
     "start_time": "2021-09-24T22:24:41.003533",
     "status": "completed"
    },
    "tags": []
   },
   "outputs": [
    {
     "data": {
      "text/html": [
       "<table class=\"dataframe\">\n",
       "<caption>A data.frame: 31 × 10</caption>\n",
       "<thead>\n",
       "\t<tr><th scope=col>Hours</th><th scope=col>ByDa</th><th scope=col>RWT</th><th scope=col>SOA</th><th scope=col>SOB</th><th scope=col>SOC</th><th scope=col>Field</th><th scope=col>Hot</th><th scope=col>Day</th><th scope=col>Friday</th></tr>\n",
       "\t<tr><th scope=col>&lt;int&gt;</th><th scope=col>&lt;int&gt;</th><th scope=col>&lt;int&gt;</th><th scope=col>&lt;int&gt;</th><th scope=col>&lt;int&gt;</th><th scope=col>&lt;int&gt;</th><th scope=col>&lt;int&gt;</th><th scope=col>&lt;int&gt;</th><th scope=col>&lt;int&gt;</th><th scope=col>&lt;dbl&gt;</th></tr>\n",
       "</thead>\n",
       "<tbody>\n",
       "\t<tr><td>111</td><td> 62</td><td> 34</td><td>496</td><td> 0</td><td> 0</td><td>36</td><td>12</td><td>3</td><td>0</td></tr>\n",
       "\t<tr><td>114</td><td> 35</td><td> 29</td><td>258</td><td> 0</td><td> 0</td><td>34</td><td>16</td><td>4</td><td>0</td></tr>\n",
       "\t<tr><td> 70</td><td> 74</td><td> 19</td><td> 39</td><td> 0</td><td> 1</td><td>27</td><td> 9</td><td>5</td><td>1</td></tr>\n",
       "\t<tr><td>114</td><td> 97</td><td> 19</td><td>376</td><td> 5</td><td> 1</td><td>26</td><td>28</td><td>1</td><td>0</td></tr>\n",
       "\t<tr><td> 87</td><td> 83</td><td> 31</td><td>107</td><td> 1</td><td> 1</td><td> 9</td><td>14</td><td>2</td><td>0</td></tr>\n",
       "\t<tr><td>105</td><td> 49</td><td> 69</td><td> 78</td><td> 2</td><td> 1</td><td>25</td><td>16</td><td>3</td><td>0</td></tr>\n",
       "\t<tr><td>114</td><td> 57</td><td> 30</td><td>385</td><td> 0</td><td> 0</td><td>15</td><td> 9</td><td>4</td><td>0</td></tr>\n",
       "\t<tr><td> 87</td><td> 44</td><td> 14</td><td>356</td><td> 0</td><td> 0</td><td>11</td><td>10</td><td>5</td><td>1</td></tr>\n",
       "\t<tr><td>107</td><td> 46</td><td> 16</td><td>219</td><td> 2</td><td> 0</td><td>18</td><td>11</td><td>1</td><td>0</td></tr>\n",
       "\t<tr><td> 99</td><td> 51</td><td> 23</td><td>464</td><td> 0</td><td> 0</td><td>24</td><td> 9</td><td>2</td><td>0</td></tr>\n",
       "\t<tr><td>106</td><td> 45</td><td> 26</td><td>283</td><td>12</td><td> 1</td><td>92</td><td>12</td><td>3</td><td>0</td></tr>\n",
       "\t<tr><td>117</td><td> 20</td><td> 32</td><td>231</td><td> 8</td><td> 0</td><td>31</td><td>18</td><td>4</td><td>0</td></tr>\n",
       "\t<tr><td> 48</td><td>  0</td><td>  0</td><td>  0</td><td> 0</td><td> 0</td><td>18</td><td> 8</td><td>5</td><td>1</td></tr>\n",
       "\t<tr><td>112</td><td>174</td><td>109</td><td>280</td><td> 0</td><td> 0</td><td>32</td><td>17</td><td>1</td><td>0</td></tr>\n",
       "\t<tr><td> 91</td><td> 27</td><td> 22</td><td>263</td><td>11</td><td> 1</td><td>24</td><td>14</td><td>2</td><td>0</td></tr>\n",
       "\t<tr><td>116</td><td> 74</td><td> 72</td><td>315</td><td> 4</td><td> 1</td><td>38</td><td>16</td><td>3</td><td>0</td></tr>\n",
       "\t<tr><td>124</td><td> 39</td><td> 38</td><td>333</td><td> 5</td><td> 0</td><td>36</td><td>16</td><td>4</td><td>0</td></tr>\n",
       "\t<tr><td> 87</td><td> 36</td><td> 13</td><td> 66</td><td> 0</td><td> 3</td><td>29</td><td>17</td><td>5</td><td>1</td></tr>\n",
       "\t<tr><td> 93</td><td> 70</td><td> 43</td><td> 52</td><td> 0</td><td>35</td><td>25</td><td> 8</td><td>1</td><td>0</td></tr>\n",
       "\t<tr><td>123</td><td> 63</td><td> 35</td><td>401</td><td> 0</td><td> 0</td><td>19</td><td>17</td><td>2</td><td>0</td></tr>\n",
       "\t<tr><td>108</td><td> 66</td><td> 68</td><td>108</td><td> 3</td><td> 1</td><td>17</td><td> 6</td><td>3</td><td>0</td></tr>\n",
       "\t<tr><td>116</td><td> 78</td><td> 51</td><td>277</td><td> 0</td><td> 1</td><td>22</td><td>19</td><td>4</td><td>0</td></tr>\n",
       "\t<tr><td> 75</td><td> 40</td><td> 40</td><td>255</td><td> 0</td><td> 0</td><td>17</td><td>11</td><td>5</td><td>1</td></tr>\n",
       "\t<tr><td>114</td><td> 44</td><td> 38</td><td>390</td><td> 2</td><td> 5</td><td>19</td><td>11</td><td>1</td><td>0</td></tr>\n",
       "\t<tr><td>116</td><td> 38</td><td> 75</td><td>429</td><td> 4</td><td> 5</td><td>15</td><td> 9</td><td>2</td><td>0</td></tr>\n",
       "\t<tr><td>116</td><td> 68</td><td> 55</td><td>330</td><td> 4</td><td> 6</td><td>19</td><td> 5</td><td>3</td><td>0</td></tr>\n",
       "\t<tr><td>108</td><td> 55</td><td> 74</td><td>349</td><td> 5</td><td> 3</td><td>12</td><td>12</td><td>4</td><td>0</td></tr>\n",
       "\t<tr><td> 63</td><td> 56</td><td> 27</td><td>121</td><td> 0</td><td> 0</td><td>21</td><td> 0</td><td>5</td><td>1</td></tr>\n",
       "\t<tr><td>115</td><td>117</td><td> 86</td><td>284</td><td> 0</td><td> 7</td><td>18</td><td>10</td><td>1</td><td>0</td></tr>\n",
       "\t<tr><td> 97</td><td> 88</td><td> 76</td><td>314</td><td> 3</td><td> 0</td><td>18</td><td> 9</td><td>2</td><td>0</td></tr>\n",
       "\t<tr><td>103</td><td> 76</td><td> 65</td><td>319</td><td> 3</td><td> 6</td><td>24</td><td> 9</td><td>3</td><td>0</td></tr>\n",
       "</tbody>\n",
       "</table>\n"
      ],
      "text/latex": [
       "A data.frame: 31 × 10\n",
       "\\begin{tabular}{llllllllll}\n",
       " Hours & ByDa & RWT & SOA & SOB & SOC & Field & Hot & Day & Friday\\\\\n",
       " <int> & <int> & <int> & <int> & <int> & <int> & <int> & <int> & <int> & <dbl>\\\\\n",
       "\\hline\n",
       "\t 111 &  62 &  34 & 496 &  0 &  0 & 36 & 12 & 3 & 0\\\\\n",
       "\t 114 &  35 &  29 & 258 &  0 &  0 & 34 & 16 & 4 & 0\\\\\n",
       "\t  70 &  74 &  19 &  39 &  0 &  1 & 27 &  9 & 5 & 1\\\\\n",
       "\t 114 &  97 &  19 & 376 &  5 &  1 & 26 & 28 & 1 & 0\\\\\n",
       "\t  87 &  83 &  31 & 107 &  1 &  1 &  9 & 14 & 2 & 0\\\\\n",
       "\t 105 &  49 &  69 &  78 &  2 &  1 & 25 & 16 & 3 & 0\\\\\n",
       "\t 114 &  57 &  30 & 385 &  0 &  0 & 15 &  9 & 4 & 0\\\\\n",
       "\t  87 &  44 &  14 & 356 &  0 &  0 & 11 & 10 & 5 & 1\\\\\n",
       "\t 107 &  46 &  16 & 219 &  2 &  0 & 18 & 11 & 1 & 0\\\\\n",
       "\t  99 &  51 &  23 & 464 &  0 &  0 & 24 &  9 & 2 & 0\\\\\n",
       "\t 106 &  45 &  26 & 283 & 12 &  1 & 92 & 12 & 3 & 0\\\\\n",
       "\t 117 &  20 &  32 & 231 &  8 &  0 & 31 & 18 & 4 & 0\\\\\n",
       "\t  48 &   0 &   0 &   0 &  0 &  0 & 18 &  8 & 5 & 1\\\\\n",
       "\t 112 & 174 & 109 & 280 &  0 &  0 & 32 & 17 & 1 & 0\\\\\n",
       "\t  91 &  27 &  22 & 263 & 11 &  1 & 24 & 14 & 2 & 0\\\\\n",
       "\t 116 &  74 &  72 & 315 &  4 &  1 & 38 & 16 & 3 & 0\\\\\n",
       "\t 124 &  39 &  38 & 333 &  5 &  0 & 36 & 16 & 4 & 0\\\\\n",
       "\t  87 &  36 &  13 &  66 &  0 &  3 & 29 & 17 & 5 & 1\\\\\n",
       "\t  93 &  70 &  43 &  52 &  0 & 35 & 25 &  8 & 1 & 0\\\\\n",
       "\t 123 &  63 &  35 & 401 &  0 &  0 & 19 & 17 & 2 & 0\\\\\n",
       "\t 108 &  66 &  68 & 108 &  3 &  1 & 17 &  6 & 3 & 0\\\\\n",
       "\t 116 &  78 &  51 & 277 &  0 &  1 & 22 & 19 & 4 & 0\\\\\n",
       "\t  75 &  40 &  40 & 255 &  0 &  0 & 17 & 11 & 5 & 1\\\\\n",
       "\t 114 &  44 &  38 & 390 &  2 &  5 & 19 & 11 & 1 & 0\\\\\n",
       "\t 116 &  38 &  75 & 429 &  4 &  5 & 15 &  9 & 2 & 0\\\\\n",
       "\t 116 &  68 &  55 & 330 &  4 &  6 & 19 &  5 & 3 & 0\\\\\n",
       "\t 108 &  55 &  74 & 349 &  5 &  3 & 12 & 12 & 4 & 0\\\\\n",
       "\t  63 &  56 &  27 & 121 &  0 &  0 & 21 &  0 & 5 & 1\\\\\n",
       "\t 115 & 117 &  86 & 284 &  0 &  7 & 18 & 10 & 1 & 0\\\\\n",
       "\t  97 &  88 &  76 & 314 &  3 &  0 & 18 &  9 & 2 & 0\\\\\n",
       "\t 103 &  76 &  65 & 319 &  3 &  6 & 24 &  9 & 3 & 0\\\\\n",
       "\\end{tabular}\n"
      ],
      "text/markdown": [
       "\n",
       "A data.frame: 31 × 10\n",
       "\n",
       "| Hours &lt;int&gt; | ByDa &lt;int&gt; | RWT &lt;int&gt; | SOA &lt;int&gt; | SOB &lt;int&gt; | SOC &lt;int&gt; | Field &lt;int&gt; | Hot &lt;int&gt; | Day &lt;int&gt; | Friday &lt;dbl&gt; |\n",
       "|---|---|---|---|---|---|---|---|---|---|\n",
       "| 111 |  62 |  34 | 496 |  0 |  0 | 36 | 12 | 3 | 0 |\n",
       "| 114 |  35 |  29 | 258 |  0 |  0 | 34 | 16 | 4 | 0 |\n",
       "|  70 |  74 |  19 |  39 |  0 |  1 | 27 |  9 | 5 | 1 |\n",
       "| 114 |  97 |  19 | 376 |  5 |  1 | 26 | 28 | 1 | 0 |\n",
       "|  87 |  83 |  31 | 107 |  1 |  1 |  9 | 14 | 2 | 0 |\n",
       "| 105 |  49 |  69 |  78 |  2 |  1 | 25 | 16 | 3 | 0 |\n",
       "| 114 |  57 |  30 | 385 |  0 |  0 | 15 |  9 | 4 | 0 |\n",
       "|  87 |  44 |  14 | 356 |  0 |  0 | 11 | 10 | 5 | 1 |\n",
       "| 107 |  46 |  16 | 219 |  2 |  0 | 18 | 11 | 1 | 0 |\n",
       "|  99 |  51 |  23 | 464 |  0 |  0 | 24 |  9 | 2 | 0 |\n",
       "| 106 |  45 |  26 | 283 | 12 |  1 | 92 | 12 | 3 | 0 |\n",
       "| 117 |  20 |  32 | 231 |  8 |  0 | 31 | 18 | 4 | 0 |\n",
       "|  48 |   0 |   0 |   0 |  0 |  0 | 18 |  8 | 5 | 1 |\n",
       "| 112 | 174 | 109 | 280 |  0 |  0 | 32 | 17 | 1 | 0 |\n",
       "|  91 |  27 |  22 | 263 | 11 |  1 | 24 | 14 | 2 | 0 |\n",
       "| 116 |  74 |  72 | 315 |  4 |  1 | 38 | 16 | 3 | 0 |\n",
       "| 124 |  39 |  38 | 333 |  5 |  0 | 36 | 16 | 4 | 0 |\n",
       "|  87 |  36 |  13 |  66 |  0 |  3 | 29 | 17 | 5 | 1 |\n",
       "|  93 |  70 |  43 |  52 |  0 | 35 | 25 |  8 | 1 | 0 |\n",
       "| 123 |  63 |  35 | 401 |  0 |  0 | 19 | 17 | 2 | 0 |\n",
       "| 108 |  66 |  68 | 108 |  3 |  1 | 17 |  6 | 3 | 0 |\n",
       "| 116 |  78 |  51 | 277 |  0 |  1 | 22 | 19 | 4 | 0 |\n",
       "|  75 |  40 |  40 | 255 |  0 |  0 | 17 | 11 | 5 | 1 |\n",
       "| 114 |  44 |  38 | 390 |  2 |  5 | 19 | 11 | 1 | 0 |\n",
       "| 116 |  38 |  75 | 429 |  4 |  5 | 15 |  9 | 2 | 0 |\n",
       "| 116 |  68 |  55 | 330 |  4 |  6 | 19 |  5 | 3 | 0 |\n",
       "| 108 |  55 |  74 | 349 |  5 |  3 | 12 | 12 | 4 | 0 |\n",
       "|  63 |  56 |  27 | 121 |  0 |  0 | 21 |  0 | 5 | 1 |\n",
       "| 115 | 117 |  86 | 284 |  0 |  7 | 18 | 10 | 1 | 0 |\n",
       "|  97 |  88 |  76 | 314 |  3 |  0 | 18 |  9 | 2 | 0 |\n",
       "| 103 |  76 |  65 | 319 |  3 |  6 | 24 |  9 | 3 | 0 |\n",
       "\n"
      ],
      "text/plain": [
       "   Hours ByDa RWT SOA SOB SOC Field Hot Day Friday\n",
       "1  111    62   34 496  0   0  36    12  3   0     \n",
       "2  114    35   29 258  0   0  34    16  4   0     \n",
       "3   70    74   19  39  0   1  27     9  5   1     \n",
       "4  114    97   19 376  5   1  26    28  1   0     \n",
       "5   87    83   31 107  1   1   9    14  2   0     \n",
       "6  105    49   69  78  2   1  25    16  3   0     \n",
       "7  114    57   30 385  0   0  15     9  4   0     \n",
       "8   87    44   14 356  0   0  11    10  5   1     \n",
       "9  107    46   16 219  2   0  18    11  1   0     \n",
       "10  99    51   23 464  0   0  24     9  2   0     \n",
       "11 106    45   26 283 12   1  92    12  3   0     \n",
       "12 117    20   32 231  8   0  31    18  4   0     \n",
       "13  48     0    0   0  0   0  18     8  5   1     \n",
       "14 112   174  109 280  0   0  32    17  1   0     \n",
       "15  91    27   22 263 11   1  24    14  2   0     \n",
       "16 116    74   72 315  4   1  38    16  3   0     \n",
       "17 124    39   38 333  5   0  36    16  4   0     \n",
       "18  87    36   13  66  0   3  29    17  5   1     \n",
       "19  93    70   43  52  0  35  25     8  1   0     \n",
       "20 123    63   35 401  0   0  19    17  2   0     \n",
       "21 108    66   68 108  3   1  17     6  3   0     \n",
       "22 116    78   51 277  0   1  22    19  4   0     \n",
       "23  75    40   40 255  0   0  17    11  5   1     \n",
       "24 114    44   38 390  2   5  19    11  1   0     \n",
       "25 116    38   75 429  4   5  15     9  2   0     \n",
       "26 116    68   55 330  4   6  19     5  3   0     \n",
       "27 108    55   74 349  5   3  12    12  4   0     \n",
       "28  63    56   27 121  0   0  21     0  5   1     \n",
       "29 115   117   86 284  0   7  18    10  1   0     \n",
       "30  97    88   76 314  3   0  18     9  2   0     \n",
       "31 103    76   65 319  3   6  24     9  3   0     "
      ]
     },
     "metadata": {},
     "output_type": "display_data"
    }
   ],
   "source": [
    "tel_data <- transform(tel_data, Friday= ifelse(Day==5, 1, 0))\n",
    "tel_data"
   ]
  },
  {
   "cell_type": "markdown",
   "id": "fbf25715",
   "metadata": {
    "papermill": {
     "duration": 0.01521,
     "end_time": "2021-09-24T22:24:41.103976",
     "exception": false,
     "start_time": "2021-09-24T22:24:41.088766",
     "status": "completed"
    },
    "tags": []
   },
   "source": [
    "*Regressing **Hours** on all variables including Friday*"
   ]
  },
  {
   "cell_type": "code",
   "execution_count": 5,
   "id": "6bcfb2a6",
   "metadata": {
    "execution": {
     "iopub.execute_input": "2021-09-24T22:24:41.140510Z",
     "iopub.status.busy": "2021-09-24T22:24:41.138504Z",
     "iopub.status.idle": "2021-09-24T22:24:41.161591Z",
     "shell.execute_reply": "2021-09-24T22:24:41.160341Z"
    },
    "papermill": {
     "duration": 0.042599,
     "end_time": "2021-09-24T22:24:41.161728",
     "exception": false,
     "start_time": "2021-09-24T22:24:41.119129",
     "status": "completed"
    },
    "tags": []
   },
   "outputs": [
    {
     "data": {
      "text/plain": [
       "\n",
       "Call:\n",
       "lm(formula = Hours ~ ., data = tel_data)\n",
       "\n",
       "Residuals:\n",
       "     Min       1Q   Median       3Q      Max \n",
       "-15.0190  -6.5432  -0.6165   6.4942  11.4557 \n",
       "\n",
       "Coefficients:\n",
       "             Estimate Std. Error t value Pr(>|t|)    \n",
       "(Intercept)  72.58088   11.13276   6.520 1.85e-06 ***\n",
       "ByDa         -0.04155    0.09074  -0.458 0.651727    \n",
       "RWT           0.14136    0.10290   1.374 0.183998    \n",
       "SOA           0.04507    0.01493   3.019 0.006536 ** \n",
       "SOB          -0.64708    0.72347  -0.894 0.381241    \n",
       "SOC           0.17931    0.31131   0.576 0.570758    \n",
       "Field         0.09569    0.14160   0.676 0.506565    \n",
       "Hot           0.91747    0.36433   2.518 0.019975 *  \n",
       "Day           2.41577    2.06813   1.168 0.255861    \n",
       "Friday      -30.70286    7.59039  -4.045 0.000584 ***\n",
       "---\n",
       "Signif. codes:  0 ‘***’ 0.001 ‘**’ 0.01 ‘*’ 0.05 ‘.’ 0.1 ‘ ’ 1\n",
       "\n",
       "Residual standard error: 8.929 on 21 degrees of freedom\n",
       "Multiple R-squared:  0.834,\tAdjusted R-squared:  0.7628 \n",
       "F-statistic: 11.72 on 9 and 21 DF,  p-value: 2.302e-06\n"
      ]
     },
     "metadata": {},
     "output_type": "display_data"
    }
   ],
   "source": [
    "mod_all2<-lm(Hours~.,data=tel_data)\n",
    "summary(mod_all2)"
   ]
  },
  {
   "cell_type": "code",
   "execution_count": 6,
   "id": "ced54fa3",
   "metadata": {
    "execution": {
     "iopub.execute_input": "2021-09-24T22:24:41.198018Z",
     "iopub.status.busy": "2021-09-24T22:24:41.196489Z",
     "iopub.status.idle": "2021-09-24T22:24:41.233668Z",
     "shell.execute_reply": "2021-09-24T22:24:41.232342Z"
    },
    "papermill": {
     "duration": 0.056473,
     "end_time": "2021-09-24T22:24:41.233803",
     "exception": false,
     "start_time": "2021-09-24T22:24:41.177330",
     "status": "completed"
    },
    "tags": []
   },
   "outputs": [
    {
     "data": {
      "text/html": [
       "<table class=\"dataframe\">\n",
       "<caption>A matrix: 10 × 2 of type dbl</caption>\n",
       "<thead>\n",
       "\t<tr><th></th><th scope=col>2.5 %</th><th scope=col>97.5 %</th></tr>\n",
       "</thead>\n",
       "<tbody>\n",
       "\t<tr><th scope=row>(Intercept)</th><td> 49.42904856</td><td> 95.73271535</td></tr>\n",
       "\t<tr><th scope=row>ByDa</th><td> -0.23026205</td><td>  0.14715956</td></tr>\n",
       "\t<tr><th scope=row>RWT</th><td> -0.07262813</td><td>  0.35534463</td></tr>\n",
       "\t<tr><th scope=row>SOA</th><td>  0.01402141</td><td>  0.07612364</td></tr>\n",
       "\t<tr><th scope=row>SOB</th><td> -2.15161427</td><td>  0.85746201</td></tr>\n",
       "\t<tr><th scope=row>SOC</th><td> -0.46810647</td><td>  0.82672138</td></tr>\n",
       "\t<tr><th scope=row>Field</th><td> -0.19878376</td><td>  0.39015875</td></tr>\n",
       "\t<tr><th scope=row>Hot</th><td>  0.15979635</td><td>  1.67513754</td></tr>\n",
       "\t<tr><th scope=row>Day</th><td> -1.88514789</td><td>  6.71668116</td></tr>\n",
       "\t<tr><th scope=row>Friday</th><td>-46.48794650</td><td>-14.91776603</td></tr>\n",
       "</tbody>\n",
       "</table>\n"
      ],
      "text/latex": [
       "A matrix: 10 × 2 of type dbl\n",
       "\\begin{tabular}{r|ll}\n",
       "  & 2.5 \\% & 97.5 \\%\\\\\n",
       "\\hline\n",
       "\t(Intercept) &  49.42904856 &  95.73271535\\\\\n",
       "\tByDa &  -0.23026205 &   0.14715956\\\\\n",
       "\tRWT &  -0.07262813 &   0.35534463\\\\\n",
       "\tSOA &   0.01402141 &   0.07612364\\\\\n",
       "\tSOB &  -2.15161427 &   0.85746201\\\\\n",
       "\tSOC &  -0.46810647 &   0.82672138\\\\\n",
       "\tField &  -0.19878376 &   0.39015875\\\\\n",
       "\tHot &   0.15979635 &   1.67513754\\\\\n",
       "\tDay &  -1.88514789 &   6.71668116\\\\\n",
       "\tFriday & -46.48794650 & -14.91776603\\\\\n",
       "\\end{tabular}\n"
      ],
      "text/markdown": [
       "\n",
       "A matrix: 10 × 2 of type dbl\n",
       "\n",
       "| <!--/--> | 2.5 % | 97.5 % |\n",
       "|---|---|---|\n",
       "| (Intercept) |  49.42904856 |  95.73271535 |\n",
       "| ByDa |  -0.23026205 |   0.14715956 |\n",
       "| RWT |  -0.07262813 |   0.35534463 |\n",
       "| SOA |   0.01402141 |   0.07612364 |\n",
       "| SOB |  -2.15161427 |   0.85746201 |\n",
       "| SOC |  -0.46810647 |   0.82672138 |\n",
       "| Field |  -0.19878376 |   0.39015875 |\n",
       "| Hot |   0.15979635 |   1.67513754 |\n",
       "| Day |  -1.88514789 |   6.71668116 |\n",
       "| Friday | -46.48794650 | -14.91776603 |\n",
       "\n"
      ],
      "text/plain": [
       "            2.5 %        97.5 %      \n",
       "(Intercept)  49.42904856  95.73271535\n",
       "ByDa         -0.23026205   0.14715956\n",
       "RWT          -0.07262813   0.35534463\n",
       "SOA           0.01402141   0.07612364\n",
       "SOB          -2.15161427   0.85746201\n",
       "SOC          -0.46810647   0.82672138\n",
       "Field        -0.19878376   0.39015875\n",
       "Hot           0.15979635   1.67513754\n",
       "Day          -1.88514789   6.71668116\n",
       "Friday      -46.48794650 -14.91776603"
      ]
     },
     "metadata": {},
     "output_type": "display_data"
    },
    {
     "data": {
      "text/html": [
       "<table class=\"dataframe\">\n",
       "<caption>A matrix: 9 × 2 of type dbl</caption>\n",
       "<thead>\n",
       "\t<tr><th></th><th scope=col>2.5 %</th><th scope=col>97.5 %</th></tr>\n",
       "</thead>\n",
       "<tbody>\n",
       "\t<tr><th scope=row>(Intercept)</th><td>36.74956729</td><td>96.3857723</td></tr>\n",
       "\t<tr><th scope=row>ByDa</th><td>-0.38013721</td><td> 0.0905481</td></tr>\n",
       "\t<tr><th scope=row>RWT</th><td> 0.08267517</td><td> 0.5781664</td></tr>\n",
       "\t<tr><th scope=row>SOA</th><td> 0.02692215</td><td> 0.1031032</td></tr>\n",
       "\t<tr><th scope=row>SOB</th><td>-2.12233312</td><td> 1.7403991</td></tr>\n",
       "\t<tr><th scope=row>SOC</th><td>-0.59503433</td><td> 1.0853886</td></tr>\n",
       "\t<tr><th scope=row>Field</th><td>-0.21698234</td><td> 0.5430812</td></tr>\n",
       "\t<tr><th scope=row>Hot</th><td> 0.36531865</td><td> 2.2621002</td></tr>\n",
       "\t<tr><th scope=row>Day</th><td>-7.03565043</td><td> 1.9845566</td></tr>\n",
       "</tbody>\n",
       "</table>\n"
      ],
      "text/latex": [
       "A matrix: 9 × 2 of type dbl\n",
       "\\begin{tabular}{r|ll}\n",
       "  & 2.5 \\% & 97.5 \\%\\\\\n",
       "\\hline\n",
       "\t(Intercept) & 36.74956729 & 96.3857723\\\\\n",
       "\tByDa & -0.38013721 &  0.0905481\\\\\n",
       "\tRWT &  0.08267517 &  0.5781664\\\\\n",
       "\tSOA &  0.02692215 &  0.1031032\\\\\n",
       "\tSOB & -2.12233312 &  1.7403991\\\\\n",
       "\tSOC & -0.59503433 &  1.0853886\\\\\n",
       "\tField & -0.21698234 &  0.5430812\\\\\n",
       "\tHot &  0.36531865 &  2.2621002\\\\\n",
       "\tDay & -7.03565043 &  1.9845566\\\\\n",
       "\\end{tabular}\n"
      ],
      "text/markdown": [
       "\n",
       "A matrix: 9 × 2 of type dbl\n",
       "\n",
       "| <!--/--> | 2.5 % | 97.5 % |\n",
       "|---|---|---|\n",
       "| (Intercept) | 36.74956729 | 96.3857723 |\n",
       "| ByDa | -0.38013721 |  0.0905481 |\n",
       "| RWT |  0.08267517 |  0.5781664 |\n",
       "| SOA |  0.02692215 |  0.1031032 |\n",
       "| SOB | -2.12233312 |  1.7403991 |\n",
       "| SOC | -0.59503433 |  1.0853886 |\n",
       "| Field | -0.21698234 |  0.5430812 |\n",
       "| Hot |  0.36531865 |  2.2621002 |\n",
       "| Day | -7.03565043 |  1.9845566 |\n",
       "\n"
      ],
      "text/plain": [
       "            2.5 %       97.5 %    \n",
       "(Intercept) 36.74956729 96.3857723\n",
       "ByDa        -0.38013721  0.0905481\n",
       "RWT          0.08267517  0.5781664\n",
       "SOA          0.02692215  0.1031032\n",
       "SOB         -2.12233312  1.7403991\n",
       "SOC         -0.59503433  1.0853886\n",
       "Field       -0.21698234  0.5430812\n",
       "Hot          0.36531865  2.2621002\n",
       "Day         -7.03565043  1.9845566"
      ]
     },
     "metadata": {},
     "output_type": "display_data"
    }
   ],
   "source": [
    "confint(mod_all2); confint(mod_all)"
   ]
  },
  {
   "cell_type": "code",
   "execution_count": 7,
   "id": "e6b0d26c",
   "metadata": {
    "execution": {
     "iopub.execute_input": "2021-09-24T22:24:41.272788Z",
     "iopub.status.busy": "2021-09-24T22:24:41.271414Z",
     "iopub.status.idle": "2021-09-24T22:24:41.303033Z",
     "shell.execute_reply": "2021-09-24T22:24:41.301596Z"
    },
    "papermill": {
     "duration": 0.05244,
     "end_time": "2021-09-24T22:24:41.303179",
     "exception": false,
     "start_time": "2021-09-24T22:24:41.250739",
     "status": "completed"
    },
    "tags": []
   },
   "outputs": [
    {
     "data": {
      "text/html": [
       "-0.81871963678182"
      ],
      "text/latex": [
       "-0.81871963678182"
      ],
      "text/markdown": [
       "-0.81871963678182"
      ],
      "text/plain": [
       "[1] -0.8187196"
      ]
     },
     "metadata": {},
     "output_type": "display_data"
    },
    {
     "data": {
      "text/html": [
       "-0.289587445222162"
      ],
      "text/latex": [
       "-0.289587445222162"
      ],
      "text/markdown": [
       "-0.289587445222162"
      ],
      "text/plain": [
       "[1] -0.2895874"
      ]
     },
     "metadata": {},
     "output_type": "display_data"
    },
    {
     "data": {
      "text/html": [
       "-0.465915752326994"
      ],
      "text/latex": [
       "-0.465915752326994"
      ],
      "text/markdown": [
       "-0.465915752326994"
      ],
      "text/plain": [
       "[1] -0.4659158"
      ]
     },
     "metadata": {},
     "output_type": "display_data"
    },
    {
     "data": {
      "text/html": [
       "-0.466298973236995"
      ],
      "text/latex": [
       "-0.466298973236995"
      ],
      "text/markdown": [
       "-0.466298973236995"
      ],
      "text/plain": [
       "[1] -0.466299"
      ]
     },
     "metadata": {},
     "output_type": "display_data"
    }
   ],
   "source": [
    "cor(tel_data$Hours,tel_data$Friday)\n",
    "cor(tel_data$Hot,tel_data$Friday)\n",
    "cor(tel_data$RWT,tel_data$Friday)\n",
    "cor(tel_data$SOA,tel_data$Friday)"
   ]
  },
  {
   "cell_type": "markdown",
   "id": "26b5627c",
   "metadata": {
    "papermill": {
     "duration": 0.019384,
     "end_time": "2021-09-24T22:24:41.342235",
     "exception": false,
     "start_time": "2021-09-24T22:24:41.322851",
     "status": "completed"
    },
    "tags": []
   },
   "source": [
    "We see that on Friday there is strongly negatively correlated to Hours. When Friday is included as a variable, the high influence of SOA, Hot and RWT seen in the previous model also reduces. However, the correlation of Hot and SOA to hours is still not inconsequential. "
   ]
  },
  {
   "cell_type": "markdown",
   "id": "c5ab7e9b",
   "metadata": {
    "papermill": {
     "duration": 0.019465,
     "end_time": "2021-09-24T22:24:41.381106",
     "exception": false,
     "start_time": "2021-09-24T22:24:41.361641",
     "status": "completed"
    },
    "tags": []
   },
   "source": [
    "*Selecting the best model using **backward selection***"
   ]
  },
  {
   "cell_type": "code",
   "execution_count": 8,
   "id": "6fb4b044",
   "metadata": {
    "execution": {
     "iopub.execute_input": "2021-09-24T22:24:41.426123Z",
     "iopub.status.busy": "2021-09-24T22:24:41.424135Z",
     "iopub.status.idle": "2021-09-24T22:24:41.483673Z",
     "shell.execute_reply": "2021-09-24T22:24:41.482174Z"
    },
    "papermill": {
     "duration": 0.083378,
     "end_time": "2021-09-24T22:24:41.483823",
     "exception": false,
     "start_time": "2021-09-24T22:24:41.400445",
     "status": "completed"
    },
    "tags": []
   },
   "outputs": [
    {
     "name": "stdout",
     "output_type": "stream",
     "text": [
      "Start:  AIC=143.66\n",
      "Hours ~ ByDa + RWT + SOA + SOB + SOC + Field + Hot + Day + Friday\n",
      "\n",
      "         Df Sum of Sq    RSS    AIC\n",
      "- ByDa    1     16.72 1690.9 141.97\n",
      "- SOC     1     26.45 1700.6 142.15\n",
      "- Field   1     36.41 1710.5 142.33\n",
      "- SOB     1     63.77 1737.9 142.82\n",
      "- Day     1    108.77 1782.9 143.61\n",
      "<none>                1674.2 143.66\n",
      "- RWT     1    150.46 1824.6 144.33\n",
      "- Hot     1    505.55 2179.7 149.84\n",
      "- SOA     1    726.46 2400.6 152.83\n",
      "- Friday  1   1304.38 2978.5 159.52\n",
      "\n",
      "Step:  AIC=141.97\n",
      "Hours ~ RWT + SOA + SOB + SOC + Field + Hot + Day + Friday\n",
      "\n",
      "         Df Sum of Sq    RSS    AIC\n",
      "- Field   1     24.97 1715.8 140.42\n",
      "- SOC     1     34.33 1725.2 140.59\n",
      "- SOB     1     47.34 1738.2 140.82\n",
      "<none>                1690.9 141.97\n",
      "- RWT     1    169.47 1860.3 142.93\n",
      "- Day     1    218.11 1909.0 143.73\n",
      "- Hot     1    492.78 2183.6 147.90\n",
      "- SOA     1    735.06 2425.9 151.16\n",
      "- Friday  1   1508.08 3198.9 159.73\n",
      "\n",
      "Step:  AIC=140.42\n",
      "Hours ~ RWT + SOA + SOB + SOC + Hot + Day + Friday\n",
      "\n",
      "         Df Sum of Sq    RSS    AIC\n",
      "- SOB     1     26.15 1742.0 138.89\n",
      "- SOC     1     39.77 1755.6 139.13\n",
      "<none>                1715.8 140.42\n",
      "- RWT     1    162.10 1877.9 141.22\n",
      "- Day     1    239.66 1955.5 142.48\n",
      "- Hot     1    535.73 2251.6 146.85\n",
      "- SOA     1    735.20 2451.0 149.48\n",
      "- Friday  1   1521.83 3237.7 158.11\n",
      "\n",
      "Step:  AIC=138.89\n",
      "Hours ~ RWT + SOA + SOC + Hot + Day + Friday\n",
      "\n",
      "         Df Sum of Sq    RSS    AIC\n",
      "- SOC     1     48.60 1790.6 137.75\n",
      "<none>                1742.0 138.89\n",
      "- RWT     1    193.60 1935.6 140.16\n",
      "- Day     1    223.79 1965.8 140.64\n",
      "- Hot     1    528.13 2270.1 145.10\n",
      "- SOA     1    765.50 2507.5 148.19\n",
      "- Friday  1   1620.41 3362.4 157.28\n",
      "\n",
      "Step:  AIC=137.75\n",
      "Hours ~ RWT + SOA + Hot + Day + Friday\n",
      "\n",
      "         Df Sum of Sq    RSS    AIC\n",
      "<none>                1790.6 137.75\n",
      "- Day     1    179.04 1969.6 138.70\n",
      "- RWT     1    191.51 1982.1 138.90\n",
      "- Hot     1    480.01 2270.6 143.11\n",
      "- SOA     1    725.63 2516.2 146.29\n",
      "- Friday  1   1662.72 3453.3 156.11\n"
     ]
    },
    {
     "data": {
      "text/plain": [
       "\n",
       "Call:\n",
       "lm(formula = Hours ~ RWT + SOA + Hot + Day + Friday, data = tel_data)\n",
       "\n",
       "Coefficients:\n",
       "(Intercept)          RWT          SOA          Hot          Day       Friday  \n",
       "   74.44553      0.11363      0.04198      0.81950      2.44164    -30.49523  \n"
      ]
     },
     "metadata": {},
     "output_type": "display_data"
    }
   ],
   "source": [
    "step(mod_all2,direction=\"backward\")\n",
    "mod_final<- lm(Hours~RWT+SOA+Hot+Day+Friday,data=tel_data)"
   ]
  },
  {
   "cell_type": "markdown",
   "id": "aa6bb977",
   "metadata": {
    "papermill": {
     "duration": 0.020257,
     "end_time": "2021-09-24T22:24:41.524556",
     "exception": false,
     "start_time": "2021-09-24T22:24:41.504299",
     "status": "completed"
    },
    "tags": []
   },
   "source": [
    "*Using the final model with 5 variables to predict Hours and examining the residuals*"
   ]
  },
  {
   "cell_type": "code",
   "execution_count": 9,
   "id": "3af0fa9c",
   "metadata": {
    "execution": {
     "iopub.execute_input": "2021-09-24T22:24:41.571844Z",
     "iopub.status.busy": "2021-09-24T22:24:41.569851Z",
     "iopub.status.idle": "2021-09-24T22:24:41.876021Z",
     "shell.execute_reply": "2021-09-24T22:24:41.875086Z"
    },
    "papermill": {
     "duration": 0.330895,
     "end_time": "2021-09-24T22:24:41.876167",
     "exception": false,
     "start_time": "2021-09-24T22:24:41.545272",
     "status": "completed"
    },
    "tags": []
   },
   "outputs": [
    {
     "data": {
      "image/png": "[encoded data removed]"
     },
     "metadata": {
      "image/png": {
       "height": 420,
       "width": 420
      }
     },
     "output_type": "display_data"
    }
   ],
   "source": [
    "eps<-tel_data$Hours-predict(mod_final)\n",
    "par(mfrow=c(1,2))\n",
    "hist(eps)\n",
    "qqnorm(eps)\n",
    "qqline(eps)"
   ]
  },
  {
   "cell_type": "code",
   "execution_count": 10,
   "id": "9ebfdb3c",
   "metadata": {
    "execution": {
     "iopub.execute_input": "2021-09-24T22:24:41.926536Z",
     "iopub.status.busy": "2021-09-24T22:24:41.924962Z",
     "iopub.status.idle": "2021-09-24T22:24:42.029476Z",
     "shell.execute_reply": "2021-09-24T22:24:42.028849Z"
    },
    "papermill": {
     "duration": 0.130807,
     "end_time": "2021-09-24T22:24:42.029609",
     "exception": false,
     "start_time": "2021-09-24T22:24:41.898802",
     "status": "completed"
    },
    "tags": []
   },
   "outputs": [
    {
     "data": {
      "image/png": "[encoded data removed]"
     },
     "metadata": {
      "image/png": {
       "height": 420,
       "width": 420
      }
     },
     "output_type": "display_data"
    }
   ],
   "source": [
    "log_mod<-lm(log(Hours)~RWT+SOA+Hot+Day+Friday,data=tel_data)\n",
    "eps2<-log(tel_data$Hours)-predict(log_mod)\n",
    "par(mfrow=c(1,2))\n",
    "hist(eps2)\n",
    "qqnorm(eps2)\n",
    "qqline(eps2)"
   ]
  }
 ],
 "metadata": {
  "kernelspec": {
   "display_name": "R",
   "language": "R",
   "name": "ir"
  },
  "language_info": {
   "codemirror_mode": "r",
   "file_extension": ".r",
   "mimetype": "text/x-r-source",
   "name": "R",
   "pygments_lexer": "r",
   "version": "4.0.5"
  },
  "papermill": {
   "default_parameters": {},
   "duration": 4.737051,
   "end_time": "2021-09-24T22:24:42.164830",
   "environment_variables": {},
   "exception": null,
   "input_path": "__notebook__.ipynb",
   "output_path": "__notebook__.ipynb",
   "parameters": {},
   "start_time": "2021-09-24T22:24:37.427779",
   "version": "2.3.3"
  }
 },
 "nbformat": 4,
 "nbformat_minor": 5
}
